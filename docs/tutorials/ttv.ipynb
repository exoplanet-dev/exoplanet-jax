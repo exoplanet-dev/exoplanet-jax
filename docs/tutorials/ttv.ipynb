{
 "cells": [
  {
   "attachments": {},
   "cell_type": "markdown",
   "metadata": {},
   "source": [
    "(ttv)=\n",
    "\n",
    "# Fitting for Transit Timing Variations (TTVs)\n",
    "\n",
    "Similarly to `exoplanet`, `jaxoplanet` contains the ability to model transit timing variations for planetary systems. This tutorial follows from [Fitting Transit Times](https://gallery.exoplanet.codes/tutorials/ttv/) for the `exoplanet` package.\n",
    "\n",
    "```{note}\n",
    "This tutorial requires some [extra packages](about.ipynb) that are not included in the `jaxoplanet` dependencies.\n",
    "```\n",
    "\n",
    "## Setup\n",
    "\n",
    "We first setup the number of CPUs to use and enable the use of double-precision numbers with jax. We also import the required packages."
   ]
  },
  {
   "cell_type": "code",
   "execution_count": null,
   "metadata": {},
   "outputs": [],
   "source": [
    "import jax\n",
    "import numpyro\n",
    "from jaxoplanet.orbits.ttv import TTVOrbit, compute_expected_transit_times\n",
    "import numpy as np\n",
    "import matplotlib.pyplot as plt\n",
    "from jaxoplanet.light_curves import limb_dark_light_curve\n",
    "import jax.numpy as jnp\n",
    "from jaxoplanet.units import unit_registry as ureg\n",
    "\n",
    "# For multi-core parallelism (useful when running multiple MCMC chains in parallel)\n",
    "numpyro.set_host_device_count(2)\n",
    "\n",
    "# For CPU (use \"gpu\" for GPU)\n",
    "numpyro.set_platform(\"cpu\")\n",
    "\n",
    "# For 64-bit precision since JAX defaults to 32-bit\n",
    "jax.config.update(\"jax_enable_x64\", True)"
   ]
  },
  {
   "attachments": {},
   "cell_type": "markdown",
   "metadata": {},
   "source": [
    "## Generating the data\n",
    "\n",
    "Let's introduce our first new orbit object, `TTVOrbit`.\n",
    "\n",
    "This is an orbit parameterized by the observables of a transiting system: speed/duration, impact parameter and radius ratio, but notably we can pass in a list of transit times to the `transit_times` keyword argument, omitting the need for a period and time of transit (We can also pass ttvs+period, or transit_times+delta_log_period). \n",
    "\n",
    "We also have the 'compute_expected_transit_times' function to propagate a given set of periods and transit centers for an N-planet system. \n"
   ]
  },
  {
   "cell_type": "code",
   "execution_count": null,
   "metadata": {},
   "outputs": [],
   "source": [
    "# Simulate some data with Gaussian noise\n",
    "time = jnp.arange(0, 30, 0.05)  # day\n",
    "random = np.random.default_rng(11)\n",
    "PERIOD = jnp.array([3, 6])  # random.uniform(2, 6, 2)  # day\n",
    "T0 = jnp.array([2, 3])  # PERIOD * random.uniform()  # day\n",
    "\n",
    "expected_transit_times = compute_expected_transit_times(\n",
    "    time.min(), time.max(), PERIOD, T0\n",
    ")\n",
    "n_planets = len(expected_transit_times)\n",
    "planet_indices = jnp.arange(n_planets)\n",
    "offset_factors = (3 / 24) - (planet_indices % 2) * 0.1\n",
    "true_ttvs = []\n",
    "for i, tt in enumerate(expected_transit_times):\n",
    "    ttv = offset_factors[i] * jnp.sin(2 * jnp.pi * tt / 17)\n",
    "    true_ttvs.append(ttv)\n",
    "TRANSIT_TIMES = tuple(tt + ttv for tt, ttv in zip(expected_transit_times, true_ttvs))\n",
    "\n",
    "# Define the duration, impact parameter, radius ratio, and limb darkening coefficients\n",
    "DURATION = jnp.array([0.5, 0.3])\n",
    "B = jnp.array([0.5, 0.5])\n",
    "ROR = jnp.array([0.1, 0.07])\n",
    "U = jnp.array([0.1, 0.06])\n",
    "yerr = 5e-4\n",
    "\n",
    "\n",
    "orbit = TTVOrbit(\n",
    "    transit_times=TRANSIT_TIMES,\n",
    "    duration=DURATION,\n",
    "    time_transit=T0,\n",
    "    impact_param=B,\n",
    "    radius_ratio=ROR,\n",
    ")\n",
    "y_true = jnp.sum(\n",
    "    limb_dark_light_curve(orbit, U)(time), axis=-1\n",
    ")  # Here, we sum the light curves of the two planets\n",
    "y = jnp.array(y_true + yerr * random.normal(size=len(time)))\n",
    "\n",
    "# Let's see what the light curve looks like\n",
    "plt.plot(time, y, \".\", c=\"0.6\", label=\"data\")\n",
    "plt.plot(time, y_true, \"-k\", label=\"truth\")\n",
    "plt.xlabel(\"time (days)\")\n",
    "plt.ylabel(\"relative flux\")\n",
    "plt.xlim(time.min(), time.max())\n",
    "_ = plt.legend(loc=4)"
   ]
  },
  {
   "attachments": {},
   "cell_type": "markdown",
   "metadata": {},
   "source": [
    "## Model with NumPyro\n",
    "\n",
    "We're going to assume you have the basics about how to construct a model from the [Transit Fitting](transit.ipynb) tutorial... So let's show off how to parameterize the model with TTVs (and multi-planet systems).  \n",
    "\n",
    "Everything here is quite standard, but in the instance of a multi-planet system, we can supply a jax.numpy array of values for our priors,\n",
    "and we can apply the method .to_event() in order to tell Numpyro the dimensions are independent,\n",
    "that is, the period of planet 1 does not depend on the period of planet 2. "
   ]
  },
  {
   "cell_type": "code",
   "execution_count": null,
   "metadata": {},
   "outputs": [],
   "source": [
    "import numpyro_ext\n",
    "import jax.numpy as jnp\n",
    "\n",
    "\"\"\"\n",
    "Note here, we DO NOT want to track the function outside of the model or we lose the ability to trace the ttv posterior. \n",
    "\"\"\"\n",
    "# Note below, we model for 'TTVOrbit' rather than 'TransitOrbit'.\n",
    "# def light_curve_model(time, params):\n",
    "#    orbit = TTVOrbit(\n",
    "#        transit_times=params[\"transit_times\"],\n",
    "#        duration=params[\"duration\"],\n",
    "#        impact_param=params[\"b\"],\n",
    "#        radius_ratio=params[\"r\"],\n",
    "#    )\n",
    "#    return limb_dark_light_curve(orbit, params[\"u\"])(time)\n",
    "\n",
    "\n",
    "def model(t, yerr, y=None):\n",
    "\n",
    "    # For loop to account for each planet's transit times, with a Uniform prior centered on the true transit times and lower/upper limits of 1 day.\n",
    "    transit_times = []\n",
    "    for i in range(2):\n",
    "        transit_times.append(\n",
    "            numpyro.sample(\n",
    "                f\"transit_times_{i}\",\n",
    "                numpyro.distributions.Uniform(\n",
    "                    low=TRANSIT_TIMES[i] - 1.0, high=TRANSIT_TIMES[i] + 1.0\n",
    "                ),\n",
    "            )\n",
    "        )\n",
    "\n",
    "    # The duration\n",
    "    logD = numpyro.sample(\n",
    "        \"logD\", numpyro.distributions.Normal(jnp.log(DURATION), 0.1).to_event(1)\n",
    "    )\n",
    "    duration = numpyro.deterministic(\"duration\", jnp.exp(logD))\n",
    "\n",
    "    # The radius ratio\n",
    "    logR = numpyro.sample(\n",
    "        \"logR\", numpyro.distributions.Normal(jnp.log(ROR), 0.1).to_event(1)\n",
    "    )\n",
    "    r = numpyro.deterministic(\"r\", jnp.exp(logR))\n",
    "\n",
    "    # The impact parameter, note, for multi-planet systems, we need to pass in a jax numpy array of values\n",
    "    _b = numpyro.sample(\n",
    "        \"_b\",\n",
    "        numpyro.distributions.Uniform(\n",
    "            low=jnp.array([0.0, 0.0]), high=jnp.array([1.0, 1.0])\n",
    "        ).to_event(1),\n",
    "    )\n",
    "    b = numpyro.deterministic(\"b\", _b * (1 + r))\n",
    "\n",
    "    # The limb darkening coefficients\n",
    "    u = numpyro.sample(\"u\", numpyro_ext.distributions.QuadLDParams())\n",
    "\n",
    "    # The orbit and light curve\n",
    "    orbit = TTVOrbit(\n",
    "        transit_times=transit_times,\n",
    "        duration=duration,\n",
    "        impact_param=b,\n",
    "        radius_ratio=r,\n",
    "    )\n",
    "    y_pred = jnp.sum(limb_dark_light_curve(orbit, u)(time), axis=-1)\n",
    "\n",
    "    # We are going to track the individual light curves for some plotting usages\n",
    "    numpyro.deterministic(\"light_curve_single\", limb_dark_light_curve(orbit, u)(time))\n",
    "\n",
    "    # Here are some useful under the radar variables that we can access from TTVOrbit. These are the linear ephemeris parameters and the TTVs.\n",
    "    for i in range(2):\n",
    "        numpyro.deterministic(f\"t0_{i}\", orbit.linear_t0[i])\n",
    "        numpyro.deterministic(f\"period_{i}\", orbit.linear_period[i])\n",
    "        numpyro.deterministic(f\"ttvs_{i}\", orbit.ttvs[i])\n",
    "\n",
    "    # Let's track the light curve\n",
    "    numpyro.deterministic(\"light_curve\", y_pred)\n",
    "\n",
    "    # The likelihood function assuming Gaussian uncertainty\n",
    "    numpyro.sample(\"obs\", numpyro.distributions.Normal(y_pred, yerr), obs=y)"
   ]
  },
  {
   "attachments": {},
   "cell_type": "markdown",
   "metadata": {},
   "source": [
    "## Checking the priors\n",
    "\n",
    "Following from the transit tutorial, let's check the priors using the `numpyro.infer` submodule's `Predictive` functionality to draw some samples from the priors. \n",
    "\n",
    "\n",
    "\n"
   ]
  },
  {
   "cell_type": "code",
   "execution_count": null,
   "metadata": {},
   "outputs": [],
   "source": [
    "import arviz as az\n",
    "\n",
    "n_prior_samples = 3000\n",
    "prior_samples = numpyro.infer.Predictive(model, num_samples=n_prior_samples)(\n",
    "    jax.random.PRNGKey(0), time, yerr\n",
    ")\n",
    "\n",
    "# Let's make it into an arviz InferenceData object.\n",
    "# To do so we'll first need to reshape the samples to be of shape (chains, draws, *shape)\n",
    "converted_prior_samples = {\n",
    "    f\"{p}\": np.expand_dims(prior_samples[p], axis=0) for p in prior_samples\n",
    "}\n",
    "prior_samples_inf_data = az.from_dict(converted_prior_samples)"
   ]
  },
  {
   "cell_type": "code",
   "execution_count": null,
   "metadata": {},
   "outputs": [],
   "source": [
    "# We will show the traces of the inferred linear ephemeris for this system\n",
    "az.plot_trace(\n",
    "    prior_samples_inf_data,\n",
    "    var_names=[\"t0_0\", \"t0_1\", \"period_0\", \"period_1\", \"duration\", \"r\", \"b\", \"u\"],\n",
    ")"
   ]
  },
  {
   "attachments": {},
   "cell_type": "markdown",
   "metadata": {},
   "source": [
    "We can see that the inferred transit parameters still look completely reasonable. \n",
    "\n",
    "We'll use the `optimize` function defined within the `numpyro_ext` package. \n",
    "\n",
    "Let's set the initial values to the true values. \n",
    "<!-- Let's do the latter and set the initial values to the median values of the priors. -->"
   ]
  },
  {
   "cell_type": "code",
   "execution_count": null,
   "metadata": {},
   "outputs": [],
   "source": [
    "init_param_method = \"true_values\"  # \"prior_median\" or \"true_values\"\n",
    "\n",
    "if init_param_method == \"prior_median\":\n",
    "    print(\"Starting from the prior medians\")\n",
    "    run_optim = numpyro_ext.optim.optimize(\n",
    "        model, init_strategy=numpyro.infer.init_to_median()\n",
    "    )\n",
    "elif init_param_method == \"true_values\":\n",
    "    print(\"Starting from the true values\")\n",
    "    init_params = {\n",
    "        \"transit_times_0\": TRANSIT_TIMES[0],\n",
    "        \"transit_times_1\": TRANSIT_TIMES[1],\n",
    "        \"logD\": jnp.log(DURATION),\n",
    "        \"logR\": jnp.log(ROR),\n",
    "        \"_b\": B / (1 + ROR),\n",
    "        \"u\": U,\n",
    "    }\n",
    "    run_optim = numpyro_ext.optim.optimize(\n",
    "        model,\n",
    "        init_strategy=numpyro.infer.init_to_value(values=init_params),\n",
    "    )\n",
    "\n",
    "opt_params = run_optim(jax.random.PRNGKey(5), time, yerr, y=y)"
   ]
  },
  {
   "attachments": {},
   "cell_type": "markdown",
   "metadata": {},
   "source": [
    "Now let's plot the MAP model against the simulated data."
   ]
  },
  {
   "cell_type": "code",
   "execution_count": null,
   "metadata": {},
   "outputs": [],
   "source": [
    "plt.plot(time, y, \".\", c=\"0.7\", label=\"data\")\n",
    "plt.plot(time, y_true, \"-k\", label=\"truth\")\n",
    "plt.plot(time, opt_params[\"light_curve\"], \"--C0\", label=\"MAP model\")\n",
    "plt.xlabel(\"time [days]\")\n",
    "plt.ylabel(\"relative flux\")\n",
    "plt.legend(fontsize=10, loc=4)\n",
    "plt.xlim(time.min(), time.max())\n",
    "plt.tight_layout()"
   ]
  },
  {
   "attachments": {},
   "cell_type": "markdown",
   "metadata": {},
   "source": [
    "Looks good!\n",
    "\n",
    "We are now going to have a quick look at the individual phase plots to demonstrate the issue with phasing planets exhibiting TTVs (which TTVOrbit corrects under the hood).\n"
   ]
  },
  {
   "cell_type": "code",
   "execution_count": null,
   "metadata": {},
   "outputs": [],
   "source": [
    "fig, ax = plt.subplots(2, 1, figsize=(12, 8))\n",
    "\n",
    "# Get the posterior median orbital parameters\n",
    "p_1 = opt_params[\"period_0\"]\n",
    "t0_1 = opt_params[\"t0_0\"]\n",
    "lc_1 = opt_params[\"light_curve_single\"][:, 0]\n",
    "p_2 = opt_params[\"period_1\"]\n",
    "t0_2 = opt_params[\"t0_1\"]\n",
    "lc_2 = opt_params[\"light_curve_single\"][:, 1]\n",
    "\n",
    "# Plot the folded data\n",
    "x_fold_1 = (time - t0_1 + 0.5 * p_1) % p_1 - 0.5 * p_1\n",
    "x_fold_2 = (time - t0_2 + 0.5 * p_2) % p_2 - 0.5 * p_2\n",
    "\n",
    "\n",
    "ax[0].errorbar(x_fold_1, y - lc_2, yerr=yerr, fmt=\".k\", label=\"data\", zorder=-1000)\n",
    "ax[0].set_xlim(-0.5 * p_1, 0.5 * p_1)\n",
    "ax[0].set_xlabel(\"time since transit [days]\")\n",
    "ax[0].set_ylabel(\"relative flux\")\n",
    "ax[0].set_title(\"Planet 1\")\n",
    "ax[0].legend()\n",
    "ax[1].errorbar(x_fold_2, y - lc_1, yerr=yerr, fmt=\".k\", label=\"data\", zorder=-1000)\n",
    "ax[1].set_xlim(-0.5 * p_2, 0.5 * p_2)\n",
    "ax[1].set_xlabel(\"time since transit [days]\")\n",
    "ax[1].set_ylabel(\"relative flux\")\n",
    "ax[1].set_title(\"Planet 2\")\n",
    "ax[1].legend()\n",
    "plt.tight_layout()\n",
    "plt.show()"
   ]
  },
  {
   "cell_type": "markdown",
   "metadata": {},
   "source": [
    "\n",
    "That obviously doesn't look great, but this is why we need to account for the TTVs, which 'TTVOrbit' corrects under the hood.\n"
   ]
  },
  {
   "attachments": {},
   "cell_type": "markdown",
   "metadata": {},
   "source": [
    "## Sampling\n",
    "Let's sample from the posterior.\n",
    "\n",
    "A quick note: For high dimensional problems (such as fitting for a large number of transits),\n",
    "dense_mass=False appears to be neccessary. "
   ]
  },
  {
   "cell_type": "code",
   "execution_count": null,
   "metadata": {},
   "outputs": [],
   "source": [
    "sampler = numpyro.infer.MCMC(\n",
    "    numpyro.infer.NUTS(\n",
    "        model,\n",
    "        dense_mass=False,  # or OMIT... for some reason unknown to me, when dense_mass is true, the sampler breaks down.\n",
    "        regularize_mass_matrix=False,\n",
    "        init_strategy=numpyro.infer.init_to_value(values=opt_params),\n",
    "    ),\n",
    "    num_warmup=1000,\n",
    "    num_samples=2000,\n",
    "    num_chains=2,\n",
    "    progress_bar=True,\n",
    ")\n",
    "\n",
    "sampler.run(jax.random.PRNGKey(1), time, yerr, y=y)"
   ]
  },
  {
   "cell_type": "code",
   "execution_count": null,
   "metadata": {},
   "outputs": [],
   "source": [
    "inf_data = az.from_numpyro(sampler)\n",
    "samples = sampler.get_samples()\n",
    "az.summary(\n",
    "    inf_data,\n",
    "    var_names=[\"transit_times_0\", \"transit_times_1\", \"duration\", \"r\", \"b\", \"u\"],\n",
    ")"
   ]
  },
  {
   "attachments": {},
   "cell_type": "markdown",
   "metadata": {},
   "source": [
    "We can typically plot traces using the `plot_trace` function in the `Arviz` package, but in this instance we have to reshape the samples to be of shape (chains, draws, *shape) rather than (chains, *shape)."
   ]
  },
  {
   "cell_type": "code",
   "execution_count": null,
   "metadata": {},
   "outputs": [],
   "source": [
    "az.plot_trace(\n",
    "    inf_data,\n",
    "    var_names=[\"transit_times_0\", \"transit_times_1\", \"duration\", \"r\", \"b\", \"u\"],\n",
    "    backend_kwargs={\"constrained_layout\": True},\n",
    ")\n",
    "plt.show()"
   ]
  },
  {
   "cell_type": "markdown",
   "metadata": {},
   "source": [
    "# TTV Plots\n",
    "\n",
    "lets make some TTV plots to show we correctly identified the trend!"
   ]
  },
  {
   "cell_type": "code",
   "execution_count": null,
   "metadata": {},
   "outputs": [],
   "source": [
    "fig, (ax1, ax2) = plt.subplots(2, 1, figsize=(10, 5), sharex=True)\n",
    "\n",
    "q = np.percentile(samples[\"ttvs_0\"], [16, 50, 84], axis=0)\n",
    "\n",
    "\n",
    "ax1.fill_between(\n",
    "    np.mean(samples[\"transit_times_0\"], axis=0),\n",
    "    q[0],\n",
    "    q[2],\n",
    "    color=\"C0\",\n",
    "    alpha=0.4,\n",
    "    edgecolor=\"none\",\n",
    ")\n",
    "ref = np.polyval(np.polyfit(TRANSIT_TIMES[0], true_ttvs[0], 1), TRANSIT_TIMES[0])\n",
    "ax1.plot(TRANSIT_TIMES[0], true_ttvs[0] - ref, \".k\")\n",
    "ax1.axhline(0, color=\"k\", lw=0.5)\n",
    "# ax1.set_ylim(np.max(np.abs(ax1.get_ylim())) * np.array([-1, 1]))\n",
    "\n",
    "ax1.set_ylabel(\"$O-C$ [days]\")\n",
    "\n",
    "q = np.percentile(samples[\"ttvs_1\"], [16, 50, 84], axis=0)\n",
    "ax2.fill_between(\n",
    "    np.mean(samples[\"transit_times_1\"], axis=0),\n",
    "    q[0],\n",
    "    q[2],\n",
    "    color=\"C1\",\n",
    "    alpha=0.4,\n",
    "    edgecolor=\"none\",\n",
    ")\n",
    "ref = np.polyval(np.polyfit(TRANSIT_TIMES[1], true_ttvs[1], 1), TRANSIT_TIMES[1])\n",
    "ax2.plot(TRANSIT_TIMES[1], true_ttvs[1] - ref, \".k\", label=\"truth\")\n",
    "ax2.axhline(0, color=\"k\", lw=0.5)\n",
    "# ax2.set_ylim(np.max(np.abs(ax2.get_ylim())) * np.array([-1, 1]))\n",
    "\n",
    "ax2.legend(fontsize=10)\n",
    "ax2.set_ylabel(\"$O-C$ [days]\")\n",
    "ax2.set_xlabel(\"transit time [days]\")\n",
    "_ = ax1.set_title(\"posterior inference\")"
   ]
  },
  {
   "cell_type": "markdown",
   "metadata": {},
   "source": [
    "# Success!\n",
    "\n",
    "We can see the posterior is correctly predicting the true ttvs to a great level! "
   ]
  }
 ],
 "metadata": {
  "kernelspec": {
   "display_name": "jaxoplanet",
   "language": "python",
   "name": "python3"
  },
  "language_info": {
   "codemirror_mode": {
    "name": "ipython",
    "version": 3
   },
   "file_extension": ".py",
   "mimetype": "text/x-python",
   "name": "python",
   "nbconvert_exporter": "python",
   "pygments_lexer": "ipython3",
   "version": "3.10.14"
  }
 },
 "nbformat": 4,
 "nbformat_minor": 4
}
