{
 "cells": [
  {
   "cell_type": "code",
   "execution_count": null,
   "id": "0",
   "metadata": {},
   "outputs": [],
   "source": [
    "import jaxoplanet\n",
    "from jaxoplanet.light_curves import limb_dark_light_curve\n",
    "from jaxoplanet.orbits import TransitOrbit\n",
    "import numpy as np\n",
    "import matplotlib.pyplot as plt\n",
    "import numpyro\n",
    "import numpyro.distributions as dist\n",
    "import numpyro_ext\n",
    "import numpyro_ext.distributions as distx, numpyro_ext.optim as optimx\n",
    "import jax\n",
    "import jax.numpy as jnp\n",
    "import corner\n",
    "import arviz as az\n",
    "import copy\n",
    "\n",
    "numpyro.set_host_device_count(\n",
    "    2\n",
    ")  # For multi-core parallelism (useful when running multiple MCMC chains in parallel)\n",
    "numpyro.set_platform(\"cpu\")  # For CPU (use \"gpu\" for GPU)\n",
    "jax.config.update(\n",
    "    \"jax_enable_x64\", True\n",
    ")  # For 64-bit precision since JAX defaults to 32-bit"
   ]
  },
  {
   "cell_type": "code",
   "execution_count": null,
   "id": "1",
   "metadata": {},
   "outputs": [],
   "source": [
    "PERIOD = 10.0  # day\n",
    "DURATION = 0.3  # day\n",
    "T0 = 0.0  # day\n",
    "B = 0.3  # impact parameter\n",
    "ROR = 0.1  # radius ratio"
   ]
  },
  {
   "cell_type": "code",
   "execution_count": null,
   "id": "2",
   "metadata": {},
   "outputs": [],
   "source": [
    "t = np.linspace(-1, 1, 500)\n",
    "params = {\n",
    "    \"period\": PERIOD,\n",
    "    \"duration\": DURATION,\n",
    "    \"b\": B,\n",
    "    \"t0\": T0,\n",
    "    \"ror\": ROR,\n",
    "    \"u\": None,\n",
    "}"
   ]
  },
  {
   "cell_type": "code",
   "execution_count": null,
   "id": "3",
   "metadata": {},
   "outputs": [],
   "source": [
    "orbit = TransitOrbit(\n",
    "    period=params[\"period\"],\n",
    "    duration=params[\"duration\"],\n",
    "    impact_param=params[\"b\"],\n",
    "    time_transit=params[\"t0\"],\n",
    "    radius_ratio=params[\"ror\"],\n",
    ")\n",
    "\n",
    "lc = limb_dark_light_curve(orbit)(t)"
   ]
  },
  {
   "cell_type": "code",
   "execution_count": null,
   "id": "4",
   "metadata": {},
   "outputs": [],
   "source": [
    "fig, ax = plt.subplots(dpi=200)\n",
    "ax.plot(t, lc)"
   ]
  },
  {
   "cell_type": "code",
   "execution_count": null,
   "id": "5",
   "metadata": {},
   "outputs": [],
   "source": [
    "ldcs = distx.QuadLDParams().sample(jax.random.PRNGKey(100), sample_shape=(50000,))"
   ]
  },
  {
   "cell_type": "code",
   "execution_count": null,
   "id": "6",
   "metadata": {},
   "outputs": [],
   "source": [
    "fig, ax = plt.subplots(dpi=200)\n",
    "\n",
    "gridsize = np.array([9, 4])\n",
    "\n",
    "ax.hexbin(ldcs[:, 0], ldcs[:, 1], gridsize=10 * gridsize, mincnt=1)\n",
    "ax.axvline(0.72844981)\n",
    "ax.axhline(-0.3642249)\n",
    "ax.set_xlabel(\"u1\")\n",
    "ax.set_ylabel(\"u2\")"
   ]
  },
  {
   "cell_type": "code",
   "execution_count": null,
   "id": "7",
   "metadata": {},
   "outputs": [],
   "source": [
    "def eval_limb_dark_light_curve(u, t):\n",
    "    orbit = TransitOrbit(\n",
    "        period=params[\"period\"],\n",
    "        duration=params[\"duration\"],\n",
    "        impact_param=params[\"b\"],\n",
    "        time_transit=params[\"t0\"],\n",
    "        radius_ratio=params[\"ror\"],\n",
    "    )\n",
    "    return limb_dark_light_curve(orbit, u)(t)\n",
    "\n",
    "\n",
    "fig, ax = plt.subplots(dpi=200)\n",
    "lcs = jax.vmap(eval_limb_dark_light_curve, in_axes=(0, None))(ldcs, t)\n",
    "\n",
    "for u, lc in zip(ldcs[:1000], lcs[:1000]):\n",
    "    ax.plot(t, lc, alpha=0.8, color=\"k\", lw=0.1)\n",
    "ax.axhline(-(ROR**2), zorder=-100, lw=0.5)\n",
    "ax.set_ylim(-0.011, -0.009)\n",
    "ax.set_xlim(-0.12, 0.12)"
   ]
  },
  {
   "cell_type": "code",
   "execution_count": null,
   "id": "8",
   "metadata": {},
   "outputs": [],
   "source": [
    "lcs.shape"
   ]
  },
  {
   "cell_type": "code",
   "execution_count": null,
   "id": "9",
   "metadata": {},
   "outputs": [],
   "source": [
    "fig, ax = plt.subplots(dpi=200)\n",
    "for u, lc in zip(ldcs[:1000], lcs[:1000]):\n",
    "    ax.plot(np.diff(lc), alpha=0.8, color=\"k\", lw=0.05)\n",
    "# ax.axhline(-ROR**2, zorder=-100, lw=0.5)\n",
    "# ax.set_ylim(-0.011, -0.009)\n",
    "# ax.set_xlim(-0.12, 0.12)"
   ]
  },
  {
   "cell_type": "code",
   "execution_count": null,
   "id": "10",
   "metadata": {},
   "outputs": [],
   "source": [
    "t = np.linspace(-0.5, 0.5, 300)\n",
    "params = {\n",
    "    \"period\": PERIOD,\n",
    "    \"duration\": DURATION,\n",
    "    \"b\": B,\n",
    "    \"t0\": T0,\n",
    "    \"u\": U,\n",
    "    \"rors\": jnp.sqrt(DEPTHS),\n",
    "}\n",
    "\n",
    "\n",
    "def eval_limb_dark_light_curve(params, t):\n",
    "    orbit = TransitOrbit(\n",
    "        period=params[\"period\"],\n",
    "        duration=params[\"duration\"],\n",
    "        impact_param=params[\"b\"],\n",
    "        time_transit=params[\"t0\"],\n",
    "        radius_ratio=params[\"rors\"],\n",
    "    )\n",
    "    return limb_dark_light_curve(orbit, params[\"u\"])(t)\n",
    "\n",
    "\n",
    "y_true = jax.vmap(\n",
    "    eval_limb_dark_light_curve,\n",
    "    in_axes=(\n",
    "        {\n",
    "            \"period\": None,\n",
    "            \"duration\": None,\n",
    "            \"b\": None,\n",
    "            \"t0\": None,\n",
    "            \"u\": None,\n",
    "            \"rors\": 0,\n",
    "        },\n",
    "        None,\n",
    "    ),\n",
    ")(params, t)\n",
    "\n",
    "stddevs = 5e-6 * wavelengths**3\n",
    "yerr = np.repeat(stddevs, repeats=t.size).reshape(num_lcs, t.size)\n",
    "keys = jax.random.split(jax.random.PRNGKey(89), num=stddevs.size)\n",
    "dy = jax.vmap(\n",
    "    lambda stddev, key: stddev * jax.random.normal(key, shape=(t.size,)), in_axes=(0, 0)\n",
    ")(stddevs, keys)\n",
    "y = y_true + dy\n",
    "\n",
    "# Let's check our spectroscopic light curves\n",
    "fig, ax = plt.subplots(dpi=200)\n",
    "offset = 0.0\n",
    "for _y_true, _y, stddev, wv in zip(y_true, y, stddevs, wavelengths):\n",
    "    ax.plot(t, _y_true + offset, lw=0.5, color=\"k\")\n",
    "    ax.errorbar(\n",
    "        t, _y + offset, yerr=stddev, marker=\".\", ms=1, ls=\"none\", lw=0.8, capsize=0\n",
    "    )\n",
    "    ax.annotate(f\"{100*wv:.1f} nm\", xy=(-0.5, 0.002 + offset), fontsize=8)\n",
    "    offset += 0.01\n",
    "ax.set_xlabel(\"time [day]\", fontsize=10)\n",
    "ax.set_ylabel(\"relative flux + arbitrary offset\", fontsize=10);"
   ]
  },
  {
   "cell_type": "markdown",
   "id": "11",
   "metadata": {},
   "source": [
    "## Broadband light curve\n",
    "Let's also see what the broadband light curve would look like. We'll use [inverse-variance weighting](https://en.wikipedia.org/wiki/Inverse-variance_weighting) to combine the spectroscopic light curves."
   ]
  },
  {
   "cell_type": "code",
   "execution_count": null,
   "id": "12",
   "metadata": {},
   "outputs": [],
   "source": [
    "inv_var = 1 / stddevs**2\n",
    "y_bb = np.dot(y.T, inv_var)\n",
    "y_bb /= np.sum(inv_var)\n",
    "yerr_bb = np.sqrt(np.sum(inv_var) ** -1)\n",
    "\n",
    "fig, ax = plt.subplots(dpi=200)\n",
    "ax.errorbar(t, y_bb, yerr=yerr_bb, marker=\".\", ls=\"none\", lw=0.8, color=\"k\")\n",
    "ax.set_xlabel(\"time [day]\", fontsize=10)\n",
    "ax.set_ylabel(\"relative flux\", fontsize=10);"
   ]
  },
  {
   "cell_type": "markdown",
   "id": "13",
   "metadata": {},
   "source": [
    "## Setting up our Numpyro model\n",
    "\n",
    "We'll follow a pretty similar setup for the numpyro model as the one we set up in the [single transit tutorial](transit.ipynb).\n",
    "\n",
    "Let's also assume we have some informative priors from previous measurements that are relatively close to the true values for all the parameters besides the limb-darkening coefficients (LDCs). For those, we'll use the `QuadLDParams` distribution from the `numpyro_ext` package which implements the uninformative prior for quadratic LD as specified in [Kipping (2013)](https://doi.org/10.1093/mnras/stt1435)."
   ]
  },
  {
   "cell_type": "code",
   "execution_count": null,
   "id": "14",
   "metadata": {},
   "outputs": [],
   "source": [
    "def jitter_value(value, jitter_fraction, key):\n",
    "    jitter = jitter_fraction * value * jax.random.normal(key)\n",
    "    return value + jitter\n",
    "\n",
    "\n",
    "# Priors\n",
    "mu_duration = jitter_value(DURATION, 1e-3, jax.random.PRNGKey(8))\n",
    "mu_t0 = jitter_value(T0, 1e-4, jax.random.PRNGKey(131))\n",
    "mu_b = jitter_value(B, 1e-2, jax.random.PRNGKey(23))\n",
    "keys = jax.random.split(jax.random.PRNGKey(55), num=num_lcs)\n",
    "mu_depths = jax.vmap(jitter_value, in_axes=(0, None, 0))(DEPTHS, 1e-9, keys)\n",
    "mu_depths = np.mean(mu_depths)"
   ]
  },
  {
   "cell_type": "code",
   "execution_count": null,
   "id": "15",
   "metadata": {},
   "outputs": [],
   "source": [
    "mu_depths"
   ]
  },
  {
   "cell_type": "code",
   "execution_count": null,
   "id": "16",
   "metadata": {},
   "outputs": [],
   "source": [
    "def model(t, yerr, y=None):\n",
    "    num_lcs = jnp.atleast_2d(yerr).shape[0]\n",
    "\n",
    "    # Priors\n",
    "\n",
    "    ## Parameters shared across spectroscopic light curves\n",
    "    logD = numpyro.sample(\"logD\", dist.Normal(jnp.log(mu_duration), 1e-2))\n",
    "    duration = numpyro.deterministic(\"duration\", jnp.exp(logD))\n",
    "\n",
    "    t0 = numpyro.sample(\n",
    "        \"t0\", dist.Normal(mu_t0, 1e-3)\n",
    "    )  # We usually have pretty good constraints on t0\n",
    "    b = numpyro.sample(\n",
    "        \"b\",\n",
    "        dist.TruncatedNormal(mu_b, 0.1, low=0.0, high=1.0),\n",
    "    )\n",
    "    u = numpyro.sample(\"u\", distx.QuadLDParams())\n",
    "\n",
    "    ## Parameters for each light curve\n",
    "    depths = numpyro.sample(\n",
    "        \"depths\",\n",
    "        dist.TruncatedNormal(\n",
    "            mu_depths,\n",
    "            1e-1 * jnp.ones_like(mu_depths),\n",
    "            low=0.0,\n",
    "            high=1.0,\n",
    "        ),\n",
    "    )\n",
    "    rors = jnp.atleast_1d(numpyro.deterministic(\"rors\", jnp.sqrt(depths)))\n",
    "\n",
    "    params = {\n",
    "        \"period\": PERIOD,\n",
    "        \"duration\": duration,\n",
    "        \"t0\": t0,\n",
    "        \"b\": b,\n",
    "        \"u\": u,\n",
    "        \"rors\": rors,\n",
    "    }\n",
    "\n",
    "    y_model = jax.vmap(\n",
    "        eval_limb_dark_light_curve,\n",
    "        in_axes=(\n",
    "            {\n",
    "                \"period\": None,\n",
    "                \"duration\": None,\n",
    "                \"b\": None,\n",
    "                \"t0\": None,\n",
    "                \"u\": None,\n",
    "                \"rors\": 0,\n",
    "            },\n",
    "            None,\n",
    "        ),\n",
    "    )(params, t)\n",
    "\n",
    "    numpyro.sample(\"obs\", dist.Normal(y_model, yerr), obs=y)"
   ]
  },
  {
   "cell_type": "markdown",
   "id": "17",
   "metadata": {},
   "source": [
    "## Checking priors\n",
    "Let's check our priors to:\n",
    "1. Make sure the range of our priors are physically sensible, and\n",
    "2. We're not *too* off from the true values"
   ]
  },
  {
   "cell_type": "code",
   "execution_count": null,
   "id": "18",
   "metadata": {},
   "outputs": [],
   "source": [
    "n_prior_samples = 2000\n",
    "prior_samples = numpyro.infer.Predictive(model, num_samples=n_prior_samples)(\n",
    "    jax.random.PRNGKey(0), t, yerr\n",
    ")\n",
    "\n",
    "# Let's make it into an arviz InferenceData object.\n",
    "# To do so we'll first need to reshape the samples to be of shape (chains, draws, *shape)\n",
    "converted_prior_samples = {\n",
    "    f\"{p}\": np.expand_dims(prior_samples[p], axis=0) for p in prior_samples\n",
    "}\n",
    "prior_samples_inf_data = az.from_dict(converted_prior_samples)\n",
    "\n",
    "# Plot the corner plot\n",
    "fig = plt.figure(figsize=(20, 20))\n",
    "_ = corner.corner(\n",
    "    prior_samples_inf_data,\n",
    "    fig=fig,\n",
    "    var_names=[\"t0\", \"duration\", \"b\", \"u\", \"rors\", \"depths\"],\n",
    "    truths=[T0, DURATION, B, *U, jnp.sqrt(jnp.mean(DEPTHS)), jnp.mean(DEPTHS)],\n",
    "    show_titles=True,\n",
    "    title_kwargs={\"fontsize\": 10},\n",
    "    label_kwargs={\"fontsize\": 10},\n",
    ")"
   ]
  },
  {
   "cell_type": "markdown",
   "id": "19",
   "metadata": {},
   "source": [
    "## Initial fit to the broadband light curve"
   ]
  },
  {
   "cell_type": "code",
   "execution_count": null,
   "id": "20",
   "metadata": {},
   "outputs": [],
   "source": [
    "init_params = {\n",
    "    \"period\": PERIOD,\n",
    "    \"duration\": mu_duration,\n",
    "    \"b\": mu_b,\n",
    "    # \"u\": numpyro_ext.distributions.QuadLDParams().sample(jax.random.PRNGKey(2345)),\n",
    "    \"u\": U,\n",
    "    \"t0\": mu_t0,\n",
    "    \"depths\": np.mean(mu_depths),\n",
    "}\n",
    "\n",
    "keys = jax.random.split(jax.random.PRNGKey(535), num=3)\n",
    "\n",
    "soln = optimx.optimize(\n",
    "    model,\n",
    "    sites=[\"duration\", \"t0\", \"b\", \"u\"],\n",
    "    start=init_params,\n",
    ")(keys[0], t, yerr_bb, y=y_bb)\n",
    "\n",
    "soln = optimx.optimize(\n",
    "    model,\n",
    "    sites=[\"depths\"],\n",
    "    start=soln,\n",
    ")(keys[1], t, yerr_bb, y=y_bb)\n",
    "\n",
    "soln = optimx.optimize(\n",
    "    model,\n",
    "    start=soln,\n",
    ")(keys[2], t, yerr_bb, y=y_bb)"
   ]
  },
  {
   "cell_type": "code",
   "execution_count": null,
   "id": "21",
   "metadata": {},
   "outputs": [],
   "source": [
    "map_params"
   ]
  },
  {
   "cell_type": "code",
   "execution_count": null,
   "id": "22",
   "metadata": {},
   "outputs": [],
   "source": [
    "param_keys = [k for k in params.keys() if k != \"period\"]\n",
    "param_keys\n",
    "map_params = {\"period\": PERIOD} | {k: soln[k] for k in param_keys}\n",
    "map_params[\"rors\"] = jnp.atleast_1d(map_params[\"rors\"])\n",
    "\n",
    "in_axes = {\n",
    "    \"period\": None,\n",
    "    \"duration\": None,\n",
    "    \"b\": None,\n",
    "    \"t0\": None,\n",
    "    \"u\": None,\n",
    "    \"rors\": 0,\n",
    "}\n",
    "\n",
    "t_model = np.linspace(t[0], t[-1], 1000)\n",
    "y_model = jax.vmap(eval_limb_dark_light_curve, in_axes=(in_axes, None))(\n",
    "    map_params, t_model\n",
    ")\n",
    "\n",
    "fig, ax = plt.subplots(dpi=200)\n",
    "offset = 0.0\n",
    "_label = \"MAP model\"\n",
    "\n",
    "ax.errorbar(t, y_bb, yerr=yerr_bb, marker=\".\", ms=1, ls=\"none\", lw=0.8, capsize=0)\n",
    "ax.plot(t_model, y_model.T, ls=\"none\", marker=\".\")\n",
    "\n",
    "# for _y_model, _y, stddev, wv in zip(y_model, y, stddevs, wavelengths):\n",
    "#     ax.errorbar(\n",
    "#         t, _y + offset, yerr=stddev, marker=\".\", ms=1, ls=\"none\", lw=0.8, capsize=0\n",
    "#     )\n",
    "#     ax.annotate(f\"{wv:.1f} nm\", xy=(-0.5, 0.002 + offset), fontsize=8)\n",
    "#     ax.plot(t, _y_model + offset, lw=0.5, color=\"k\", label=_label)\n",
    "#     offset += 0.01\n",
    "#     _label = None\n",
    "ax.set_xlabel(\"time [day]\", fontsize=10)\n",
    "ax.set_ylabel(\"relative flux + arbitrary offset\", fontsize=10)\n",
    "ax.legend(markerscale=2, edgecolor=\"k\");"
   ]
  },
  {
   "cell_type": "code",
   "execution_count": null,
   "id": "23",
   "metadata": {},
   "outputs": [],
   "source": [
    "map_params"
   ]
  },
  {
   "cell_type": "code",
   "execution_count": null,
   "id": "24",
   "metadata": {},
   "outputs": [],
   "source": [
    "map_params"
   ]
  },
  {
   "cell_type": "markdown",
   "id": "25",
   "metadata": {},
   "source": [
    "## Optimize and get MAP estimate\n",
    "Let's optimize the model to calculate the *maximum a posteriori* (MAP) estimate so that we can use it as the starting point for our MCMC run.\n",
    "\n",
    "We've found the optimization to be more robust (i.e., not sensitive to the random seed) when we optimize the parameters in batches instead of all at once. "
   ]
  },
  {
   "cell_type": "code",
   "execution_count": null,
   "id": "26",
   "metadata": {},
   "outputs": [],
   "source": [
    "init_params = {\n",
    "    \"period\": PERIOD,\n",
    "    \"duration\": mu_duration,\n",
    "    \"b\": mu_b,\n",
    "    # \"u\": numpyro_ext.distributions.QuadLDParams().sample(jax.random.PRNGKey(2345)),\n",
    "    \"u\": np.array([0.2, 0.04]),\n",
    "    \"t0\": mu_t0,\n",
    "    \"depths\": mu_depths,\n",
    "}\n",
    "\n",
    "keys = jax.random.split(jax.random.PRNGKey(535), num=3)\n",
    "\n",
    "soln = optimx.optimize(\n",
    "    model,\n",
    "    sites=[\"duration\", \"t0\", \"b\", \"u\"],\n",
    "    start=init_params,\n",
    ")(keys[0], t, yerr, y=y)\n",
    "\n",
    "soln = optimx.optimize(\n",
    "    model,\n",
    "    sites=[\"depths\"],\n",
    "    start=soln,\n",
    ")(keys[1], t, yerr, y=y)\n",
    "\n",
    "soln = optimx.optimize(\n",
    "    model,\n",
    "    start=soln,\n",
    ")(keys[2], t, yerr, y=y)"
   ]
  },
  {
   "cell_type": "markdown",
   "id": "27",
   "metadata": {},
   "source": [
    "Let's extract the model parameters from the `soln` dictionary and plot our MAP model"
   ]
  },
  {
   "cell_type": "code",
   "execution_count": null,
   "id": "28",
   "metadata": {},
   "outputs": [],
   "source": [
    "param_keys = [k for k in params.keys() if k != \"period\"]\n",
    "param_keys\n",
    "map_params = {\"period\": PERIOD} | {k: soln[k] for k in param_keys}\n",
    "\n",
    "in_axes = {\n",
    "    \"period\": None,\n",
    "    \"duration\": None,\n",
    "    \"b\": None,\n",
    "    \"t0\": None,\n",
    "    \"u\": None,\n",
    "    \"rors\": 0,\n",
    "}\n",
    "\n",
    "y_model = jax.vmap(eval_limb_dark_light_curve, in_axes=(in_axes, None))(map_params, t)\n",
    "\n",
    "fig, ax = plt.subplots(dpi=200)\n",
    "offset = 0.0\n",
    "_label = \"MAP model\"\n",
    "for _y_model, _y, stddev, wv in zip(y_model, y, stddevs, wavelengths):\n",
    "    ax.errorbar(\n",
    "        t, _y + offset, yerr=stddev, marker=\".\", ms=1, ls=\"none\", lw=0.8, capsize=0\n",
    "    )\n",
    "    ax.annotate(f\"{wv:.1f} nm\", xy=(-0.5, 0.002 + offset), fontsize=8)\n",
    "    ax.plot(t, _y_model + offset, lw=0.5, color=\"k\", label=_label)\n",
    "    offset += 0.01\n",
    "    _label = None\n",
    "ax.set_xlabel(\"time [day]\", fontsize=10)\n",
    "ax.set_ylabel(\"relative flux + arbitrary offset\", fontsize=10)\n",
    "ax.legend(markerscale=2, edgecolor=\"k\");"
   ]
  },
  {
   "cell_type": "code",
   "execution_count": null,
   "id": "29",
   "metadata": {},
   "outputs": [],
   "source": [
    "map_params"
   ]
  },
  {
   "cell_type": "markdown",
   "id": "30",
   "metadata": {},
   "source": [
    "## Sampling"
   ]
  },
  {
   "cell_type": "code",
   "execution_count": null,
   "id": "31",
   "metadata": {},
   "outputs": [],
   "source": [
    "sampler = numpyro.infer.MCMC(\n",
    "    numpyro.infer.NUTS(\n",
    "        model,\n",
    "        dense_mass=True,\n",
    "        regularize_mass_matrix=True,\n",
    "        init_strategy=numpyro.infer.init_to_value(values=map_params),\n",
    "    ),\n",
    "    num_warmup=300,\n",
    "    num_samples=100,\n",
    "    num_chains=2,\n",
    "    progress_bar=True,\n",
    ")"
   ]
  },
  {
   "cell_type": "code",
   "execution_count": null,
   "id": "32",
   "metadata": {},
   "outputs": [],
   "source": [
    "with jax.profiler.trace(\"./\"):\n",
    "    jax.block_until_ready(sampler.run(jax.random.PRNGKey(10), t, yerr, y=y))"
   ]
  },
  {
   "cell_type": "code",
   "execution_count": null,
   "id": "33",
   "metadata": {},
   "outputs": [],
   "source": [
    "sampler.print_summary()\n",
    "inf_data = az.from_numpyro(sampler)"
   ]
  },
  {
   "cell_type": "code",
   "execution_count": null,
   "id": "34",
   "metadata": {},
   "outputs": [],
   "source": [
    "corner.corner(\n",
    "    inf_data,\n",
    "    var_names=[\"duration\", \"u\", \"rors\", \"b\", \"t0\"],\n",
    "    truths=[DURATION, *U, *DEPTHS, B, T0],\n",
    ");"
   ]
  }
 ],
 "metadata": {
  "kernelspec": {
   "display_name": "jaxoplanet",
   "language": "python",
   "name": "python3"
  },
  "language_info": {
   "codemirror_mode": {
    "name": "ipython",
    "version": 3
   },
   "file_extension": ".py",
   "mimetype": "text/x-python",
   "name": "python",
   "nbconvert_exporter": "python",
   "pygments_lexer": "ipython3",
   "version": "3.11.8"
  }
 },
 "nbformat": 4,
 "nbformat_minor": 5
}
