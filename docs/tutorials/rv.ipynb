{
 "cells": [
  {
   "cell_type": "markdown",
   "metadata": {},
   "source": [
    "# Fitting radial velocities\n",
    "\n",
    "In this tutorial we will learn how to use `jaxoplanet` to compute the radial velocities of a star hosting a single exoplanet, and how to fit this dataset using `numpyro`."
   ]
  },
  {
   "cell_type": "code",
   "execution_count": null,
   "metadata": {
    "tags": [
     "hide-input"
    ]
   },
   "outputs": [],
   "source": [
    "# Double precision with JAX\n",
    "import jax\n",
    "\n",
    "jax.config.update(\"jax_enable_x64\", True)"
   ]
  },
  {
   "cell_type": "markdown",
   "metadata": {},
   "source": [
    "## Model and dataset\n",
    "\n",
    "Let's first generate our dataset, consisting in the radial velocities of a star orbited by a unique exoplanet. We start by defining the system (see [Data and Model]() for more details)"
   ]
  },
  {
   "cell_type": "code",
   "execution_count": null,
   "metadata": {},
   "outputs": [],
   "source": [
    "import numpy as np\n",
    "import matplotlib.pyplot as plt\n",
    "from jaxoplanet.orbits import keplerian\n",
    "\n",
    "star = keplerian.Central(mass=1.0, radius=1.0)\n",
    "true_planet = keplerian.Body(mass=0.02, period=3.0)\n",
    "system = keplerian.System(star, bodies=[true_planet])"
   ]
  },
  {
   "cell_type": "markdown",
   "metadata": {},
   "source": [
    "As we left many parameters as default, let's check the parameters of the system"
   ]
  },
  {
   "cell_type": "code",
   "execution_count": null,
   "metadata": {},
   "outputs": [],
   "source": [
    "system"
   ]
  },
  {
   "cell_type": "markdown",
   "metadata": {},
   "source": [
    "We can now compute the radial radial_velocities of the star and add some noise to simulate our dataset"
   ]
  },
  {
   "cell_type": "code",
   "execution_count": null,
   "metadata": {},
   "outputs": [],
   "source": [
    "from jaxoplanet.units import unit_registry as ureg\n",
    "\n",
    "over_time = np.linspace(0, 10, 1000)\n",
    "over_rvs = system.radial_velocity(over_time)[0]\n",
    "time = np.sort(np.random.uniform(0, 10, 30))\n",
    "rv_obs = system.radial_velocity(time)[0]\n",
    "rv_err = 0.05 * rv_obs.units\n",
    "rv_obs += rv_err * np.random.normal(size=len(time))\n",
    "\n",
    "plt.plot(over_time, over_rvs.magnitude)\n",
    "plt.errorbar(time, rv_obs.magnitude, yerr=rv_err.magnitude, fmt=\"+k\")"
   ]
  },
  {
   "cell_type": "markdown",
   "metadata": {},
   "source": [
    "## Inference"
   ]
  },
  {
   "cell_type": "code",
   "execution_count": null,
   "metadata": {},
   "outputs": [],
   "source": [
    "import numpyro\n",
    "import jax.numpy as jnp\n",
    "from numpyro import distributions as dist, infer\n",
    "\n",
    "\n",
    "def rv_model(time, params):\n",
    "    planet = keplerian.Body(mass=params[\"mass\"], period=params[\"period\"])\n",
    "    system = keplerian.System(central=star, bodies=[planet])\n",
    "    return system.radial_velocity(time)[0].magnitude\n",
    "\n",
    "\n",
    "def model(time, y=None):\n",
    "    mass = numpyro.sample(\"mass\", dist.Uniform(0.01, 0.1))\n",
    "    period = numpyro.sample(\"period\", dist.Uniform(1.0, 10.0))\n",
    "    error = numpyro.sample(\"error\", dist.Uniform(0.01, 0.08))\n",
    "    rv = rv_model(time, {\"mass\": mass, \"period\": period})\n",
    "    numpyro.sample(\"y\", dist.Normal(rv, error), obs=y)"
   ]
  },
  {
   "cell_type": "markdown",
   "metadata": {},
   "source": [
    "Once the model defined, we will sample the posterior likelihood of the model parameters given the observed radial velocities. As we will need to provide some initial values for these parameters, it is a good idea to check that these values provide a good starting point for the model"
   ]
  },
  {
   "cell_type": "code",
   "execution_count": null,
   "metadata": {},
   "outputs": [],
   "source": [
    "init_values = {\"mass\": 0.022, \"period\": 3.01, \"error\": rv_err.magnitude}\n",
    "init_model = rv_model(over_time, init_values)\n",
    "\n",
    "plt.errorbar(time, rv_obs.magnitude, yerr=rv_err.magnitude, fmt=\"+k\")\n",
    "plt.plot(over_time, init_model, \"C0\")"
   ]
  },
  {
   "cell_type": "code",
   "execution_count": null,
   "metadata": {},
   "outputs": [],
   "source": [
    "sampler = infer.MCMC(\n",
    "    infer.NUTS(model, init_strategy=infer.init_to_value(values=init_values)),\n",
    "    num_warmup=2000,\n",
    "    num_samples=10000,\n",
    "    progress_bar=True,\n",
    ")\n",
    "\n",
    "sampler.run(jax.random.PRNGKey(6), time, y=rv_obs.magnitude)"
   ]
  },
  {
   "cell_type": "code",
   "execution_count": null,
   "metadata": {},
   "outputs": [],
   "source": [
    "samples = sampler.get_samples()\n",
    "posterior_rvs = infer.Predictive(model, samples)(jax.random.PRNGKey(0), over_time)[\"y\"]\n",
    "\n",
    "plt.plot(over_time, posterior_rvs.mean(0), \"C0\")\n",
    "plt.fill_between(\n",
    "    over_time,\n",
    "    *np.percentile(posterior_rvs, [16, 84], axis=0),\n",
    "    alpha=0.3,\n",
    "    color=\"C0\",\n",
    ")\n",
    "plt.errorbar(time, rv_obs, yerr=rv_err.magnitude, fmt=\"+k\")"
   ]
  },
  {
   "cell_type": "code",
   "execution_count": null,
   "metadata": {},
   "outputs": [],
   "source": []
  }
 ],
 "metadata": {
  "kernelspec": {
   "display_name": "jaxoplanet_docs",
   "language": "python",
   "name": "python3"
  },
  "language_info": {
   "codemirror_mode": {
    "name": "ipython",
    "version": 3
   },
   "file_extension": ".py",
   "mimetype": "text/x-python",
   "name": "python",
   "nbconvert_exporter": "python",
   "pygments_lexer": "ipython3",
   "version": "3.10.13"
  }
 },
 "nbformat": 4,
 "nbformat_minor": 2
}
