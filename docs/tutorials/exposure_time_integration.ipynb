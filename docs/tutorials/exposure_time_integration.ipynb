{
 "cells": [
  {
   "cell_type": "code",
   "execution_count": null,
   "metadata": {},
   "outputs": [],
   "source": [
    "import jaxoplanet\n",
    "from jaxoplanet.light_curves import LimbDarkLightCurve\n",
    "from jaxoplanet.orbits import TransitOrbit\n",
    "import numpy as np\n",
    "import matplotlib.pyplot as plt\n",
    "import numpyro\n",
    "import numpyro_ext.distributions, numpyro_ext.optim\n",
    "import jax\n",
    "import jax.numpy as jnp\n",
    "import corner\n",
    "import arviz as az\n",
    "import copy\n",
    "\n",
    "numpyro.set_host_device_count(\n",
    "    4\n",
    ")  # For multi-core parallelism (useful when running multiple MCMC chains in parallel)\n",
    "numpyro.set_platform(\"cpu\")  # For CPU (use \"gpu\" for GPU)\n",
    "jax.config.update(\n",
    "    \"jax_enable_x64\", True\n",
    ")  # For 64-bit precision since JAX defaults to 32-bit\n",
    "\n",
    "\n",
    "print(f\"jaxoplanet.__version__ = {jaxoplanet.__version__}\")\n",
    "print(f\"numpy.__version__ = {np.__version__}\")\n",
    "print(f\"matplotlib.__version__ = {plt.matplotlib.__version__}\")\n",
    "print(f\"numpyro.__version__ = {numpyro.__version__}\")\n",
    "print(f\"numpyro_ext.__version__ = {numpyro_ext.__version__}\")\n",
    "print(f\"jax.__version__ = {jax.__version__}\")\n",
    "print(f\"corner.__version__ = {corner.__version__}\")\n",
    "print(f\"arviz.__version__ = {az.__version__}\")"
   ]
  },
  {
   "cell_type": "code",
   "execution_count": null,
   "metadata": {},
   "outputs": [],
   "source": [
    "# The light curve calculation requires an orbit object.\n",
    "# We'll use TransitOrbit (similar to SimpleTransitOrbit in the exoplanet package),\n",
    "# which is an orbit parameterized by the observables of a transiting system:\n",
    "# period, speed/duration, time of transit, impact parameter, and radius ratio.\n",
    "orbit = TransitOrbit.init(\n",
    "    period=3.456, duration=0.12, time_transit=0.0, impact_param=0.0, radius=0.1\n",
    ")  # TODO: Is it actually the radius ratio?\n",
    "\n",
    "\n",
    "# Compute a limb-darkened light curve for this orbit\n",
    "t = np.linspace(-0.1, 0.1, 1000)\n",
    "u = [0.3, 0.2]\n",
    "light_curve, summed_lc, stencil, x, y, z = LimbDarkLightCurve.init(u).light_curve(\n",
    "    orbit, t, texp=jnp.repeat(50, 1000)\n",
    ")  # returns a 2D array of shape (1, 1000)\n",
    "# light_curve = light_curve[0]  # remove the extra dimension\n",
    "no_texp_lc, x, y, z = LimbDarkLightCurve.init(u).light_curve(orbit, t, texp=None)\n",
    "\n",
    "# Plot the light curve\n",
    "plt.figure(dpi=150)\n",
    "plt.plot(t, summed_lc, lw=2)\n",
    "plt.plot(t, no_texp_lc, lw=2)\n",
    "plt.xlabel(\"time [days]\")\n",
    "plt.ylabel(\"relative flux\")\n",
    "plt.xlim(t.min(), t.max());"
   ]
  },
  {
   "cell_type": "code",
   "execution_count": null,
   "metadata": {},
   "outputs": [],
   "source": [
    "light_curve.shape"
   ]
  },
  {
   "cell_type": "code",
   "execution_count": null,
   "metadata": {},
   "outputs": [],
   "source": [
    "light_curve[700]"
   ]
  },
  {
   "cell_type": "code",
   "execution_count": null,
   "metadata": {},
   "outputs": [],
   "source": []
  }
 ],
 "metadata": {
  "kernelspec": {
   "display_name": "jaxoplanet",
   "language": "python",
   "name": "python3"
  },
  "language_info": {
   "codemirror_mode": {
    "name": "ipython",
    "version": 3
   },
   "file_extension": ".py",
   "mimetype": "text/x-python",
   "name": "python",
   "nbconvert_exporter": "python",
   "pygments_lexer": "ipython3",
   "version": "3.11.1"
  }
 },
 "nbformat": 4,
 "nbformat_minor": 2
}
