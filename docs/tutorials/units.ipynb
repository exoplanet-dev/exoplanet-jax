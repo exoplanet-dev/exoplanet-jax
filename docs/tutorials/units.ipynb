{
 "cells": [
  {
   "cell_type": "markdown",
   "id": "0",
   "metadata": {},
   "source": [
    "# Units\n",
    "\n",
    "All of the user-facing interfaces in `jaxoplanet` support units using the [`jpu` package](https://github.com/dfm/jpu).\n",
    "As far as we know, `jaxoplanet` is the only user of this unit system, and this API should be considered somewhat experimental, but we think that there are benefits to being unambiguous about units where possible.\n",
    "So, here we provide an overview of how `jpu` works and how it interacts with `jaxoplanet`.\n",
    "\n",
    "For technical reasons, the `jpu` package is built on top of [`Pint`](https://pint.readthedocs.io), rather than [`astropy.units`](https://docs.astropy.org/en/stable/units/), so the interface might be unfamiliar to some users, but we hope that we can provide enough information here to get you started.\n",
    "Please also refer to the [`jpu`](https://github.com/dfm/jpu) and [`Pint`](https://pint.readthedocs.io) documentation for more details.\n",
    "\n",
    "To start, we import the \"unit registry\" from `jaxoplanet`, which will provide the building blocks for interacting with our unit system:"
   ]
  },
  {
   "cell_type": "code",
   "execution_count": 1,
   "id": "1",
   "metadata": {},
   "outputs": [
    {
     "data": {
      "text/html": [
       "92955807.27302553 mile"
      ],
      "text/latex": [
       "$92955807.27302553\\ \\mathrm{mile}$"
      ],
      "text/plain": [
       "<Quantity(92955807.3, 'mile')>"
      ]
     },
     "execution_count": 1,
     "metadata": {},
     "output_type": "execute_result"
    }
   ],
   "source": [
    "from jaxoplanet.units import unit_registry as u\n",
    "\n",
    "(1.0 * u.au).to(u.mile)"
   ]
  },
  {
   "cell_type": "markdown",
   "id": "2",
   "metadata": {},
   "source": [
    "`jpu` also provides its own `UnitRegistry`, but the `jaxoplanet` registry includes some useful astronomy specific definitions that aren't supported natively by `Pint` or `jpu`.\n",
    "\n",
    "Then, using this registry, we can write JAX code that handles unit conversions:"
   ]
  },
  {
   "cell_type": "code",
   "execution_count": 2,
   "id": "3",
   "metadata": {},
   "outputs": [
    {
     "data": {
      "text/html": [
       "<table><tbody><tr><th>Magnitude</th><td style='text-align:left;'><pre>[1.6 1.8 2. ]</pre></td></tr><tr><th>Units</th><td style='text-align:left;'>meter</td></tr></tbody></table>"
      ],
      "text/latex": [
       "$[1.6 1.8 2. ]\\ \\mathrm{meter}$"
      ],
      "text/plain": [
       "<Quantity([1.6 1.8 2. ], 'meter')>"
      ]
     },
     "execution_count": 2,
     "metadata": {},
     "output_type": "execute_result"
    }
   ],
   "source": [
    "import jax\n",
    "import jax.numpy as jnp\n",
    "\n",
    "\n",
    "@jax.jit\n",
    "def add_two_lengths(x, y):\n",
    "    return x + y\n",
    "\n",
    "\n",
    "add_two_lengths(1.5 * u.m, jnp.linspace(10.0, 50.0, 3) * u.cm)"
   ]
  },
  {
   "cell_type": "markdown",
   "id": "4",
   "metadata": {},
   "source": [
    "These `Quantity` objects should mostly play well with JAX's programming models and function transformations, but there are a couple of subtleties that should be emphasized.\n",
    "\n",
    "## Using mathematical functions\n",
    "\n",
    "First, the usual `jax.numpy` functions don't work as expected with quantities:"
   ]
  },
  {
   "cell_type": "code",
   "execution_count": 3,
   "id": "5",
   "metadata": {},
   "outputs": [
    {
     "name": "stdout",
     "output_type": "stream",
     "text": [
      "cos requires ndarray or scalar arguments, got <class 'pint.JpuQuantity'> at position 0.\n"
     ]
    }
   ],
   "source": [
    "try:\n",
    "    jnp.cos(45.0 * u.degrees)\n",
    "except TypeError as e:\n",
    "    print(e)"
   ]
  },
  {
   "cell_type": "markdown",
   "id": "6",
   "metadata": {},
   "source": [
    "As you can see, calling a `jax.numpy` function with a `Quantity` as an argument will throw a `TypeError` because `jax.numpy` functions strictly require JAX arrays as input.\n",
    "Unlike `numpy`, `jax.numpy` doesn't (currently) support array dispatching on custom types.\n",
    "Instead, you'll need to either use the interface defined in `jpu.numpy`:"
   ]
  },
  {
   "cell_type": "code",
   "execution_count": 4,
   "id": "7",
   "metadata": {},
   "outputs": [
    {
     "data": {
      "text/html": [
       "0.7071067690849304 dimensionless"
      ],
      "text/latex": [
       "$0.7071067690849304\\ \\mathrm{dimensionless}$"
      ],
      "text/plain": [
       "<Quantity(0.7071067690849304, 'dimensionless')>"
      ]
     },
     "execution_count": 4,
     "metadata": {},
     "output_type": "execute_result"
    }
   ],
   "source": [
    "import jpu.numpy as jnpu\n",
    "\n",
    "jnpu.cos(45.0 * u.degrees)"
   ]
  },
  {
   "cell_type": "markdown",
   "id": "8",
   "metadata": {},
   "source": [
    "Or manually extract the \"magnitude\" of your `Quantity`:"
   ]
  },
  {
   "cell_type": "code",
   "execution_count": 5,
   "id": "9",
   "metadata": {},
   "outputs": [
    {
     "data": {
      "text/plain": [
       "Array(0.70710677, dtype=float32, weak_type=True)"
      ]
     },
     "execution_count": 5,
     "metadata": {},
     "output_type": "execute_result"
    }
   ],
   "source": [
    "jnp.cos((45.0 * u.degrees).to(u.radian).magnitude)"
   ]
  },
  {
   "cell_type": "markdown",
   "id": "10",
   "metadata": {},
   "source": [
    "## Gradients\n",
    "\n",
    "Most JAX function transformations (`jax.jit`, `jax.vmap`, etc.) work properly with `Quantity` inputs, "
   ]
  },
  {
   "cell_type": "markdown",
   "id": "11",
   "metadata": {},
   "source": [
    "One technical note that is worth mentioning here is that "
   ]
  },
  {
   "cell_type": "code",
   "execution_count": 7,
   "id": "12",
   "metadata": {},
   "outputs": [
    {
     "data": {
      "text/plain": [
       "{ lambda ; a:f32[] b:f32[]. let\n",
       "    c:f32[] = mul b 0.01\n",
       "    d:f32[] = add a c\n",
       "  in (d,) }"
      ]
     },
     "execution_count": 7,
     "metadata": {},
     "output_type": "execute_result"
    }
   ],
   "source": [
    "jax.make_jaxpr(lambda x, y: x + y)(1.5 * u.m, 50.0 * u.cm)"
   ]
  },
  {
   "cell_type": "markdown",
   "id": "13",
   "metadata": {},
   "source": [
    "which shows how the unit conversion is handled within jaxprs."
   ]
  }
 ],
 "metadata": {
  "kernelspec": {
   "display_name": "Python 3 (ipykernel)",
   "language": "python",
   "name": "python3"
  },
  "language_info": {
   "codemirror_mode": {
    "name": "ipython",
    "version": 3
   },
   "file_extension": ".py",
   "mimetype": "text/x-python",
   "name": "python",
   "nbconvert_exporter": "python",
   "pygments_lexer": "ipython3",
   "version": "3.11.10"
  }
 },
 "nbformat": 4,
 "nbformat_minor": 5
}
