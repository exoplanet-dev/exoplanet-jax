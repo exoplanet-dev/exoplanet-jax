{
 "cells": [
  {
   "cell_type": "markdown",
   "metadata": {},
   "source": [
    "# Units"
   ]
  },
  {
   "cell_type": "markdown",
   "metadata": {},
   "source": [
    "In order to deal with physical units, *jaxoplanet* uses [jpu](https://github.com/dfm/jpu), a Python package that provides an interface between [JAX](https://jax.readthedocs.io) and [Pint](https://pint.readthedocs.io) to allow JAX to support operations with units.\n",
    "\n",
    "Here is an example from their documentatiton:"
   ]
  },
  {
   "cell_type": "code",
   "execution_count": 16,
   "metadata": {},
   "outputs": [],
   "source": [
    "import jax\n",
    "import jax.numpy as jnp\n",
    "import jpu\n",
    "\n",
    "u = jpu.UnitRegistry()\n",
    "\n",
    "\n",
    "@jax.jit\n",
    "def add_two_lengths(a, b):\n",
    "    return a + b\n",
    "\n",
    "\n",
    "result = add_two_lengths(3 * u.m, jnp.array([4.5, 1.2, 3.9]) * u.cm)"
   ]
  },
  {
   "cell_type": "markdown",
   "metadata": {},
   "source": [
    "The `result` has a value with units attached to it and is of type"
   ]
  },
  {
   "cell_type": "code",
   "execution_count": 18,
   "metadata": {},
   "outputs": [
    {
     "data": {
      "text/plain": [
       "pint.JpuQuantity"
      ]
     },
     "execution_count": 18,
     "metadata": {},
     "output_type": "execute_result"
    }
   ],
   "source": [
    "type(result)"
   ]
  },
  {
   "cell_type": "markdown",
   "metadata": {},
   "source": [
    "To get the value of the quantity, one can call"
   ]
  },
  {
   "cell_type": "code",
   "execution_count": 35,
   "metadata": {},
   "outputs": [
    {
     "data": {
      "text/plain": [
       "Array([3.045, 3.012, 3.039], dtype=float32)"
      ]
     },
     "execution_count": 35,
     "metadata": {},
     "output_type": "execute_result"
    }
   ],
   "source": [
    "result.magnitude"
   ]
  },
  {
   "cell_type": "markdown",
   "metadata": {},
   "source": [
    "And to convert to a different unit"
   ]
  },
  {
   "cell_type": "code",
   "execution_count": 36,
   "metadata": {},
   "outputs": [
    {
     "data": {
      "text/html": [
       "<table><tbody><tr><th>Magnitude</th><td style='text-align:left;'><pre>[304.5 301.2 303.9]</pre></td></tr><tr><th>Units</th><td style='text-align:left;'>centimeter</td></tr></tbody></table>"
      ],
      "text/latex": [
       "$[304.5 301.2 303.9]\\ \\mathrm{centimeter}$"
      ],
      "text/plain": [
       "<Quantity([304.5 301.2 303.9], 'centimeter')>"
      ]
     },
     "execution_count": 36,
     "metadata": {},
     "output_type": "execute_result"
    }
   ],
   "source": [
    "result.to(u.cm)\n",
    "\n",
    "# or\n",
    "\n",
    "result.to(\"cm\")"
   ]
  },
  {
   "cell_type": "markdown",
   "metadata": {},
   "source": [
    "The particularity of the `jpuQuantity` is that it cannot be used direcly within a function"
   ]
  },
  {
   "cell_type": "code",
   "execution_count": 37,
   "metadata": {},
   "outputs": [
    {
     "name": "stdout",
     "output_type": "stream",
     "text": [
      "power requires ndarray or scalar arguments, got <class 'pint.JpuQuantity'> at position 0.\n"
     ]
    }
   ],
   "source": [
    "try:\n",
    "    jnp.power(result, 2)\n",
    "except Exception as e:\n",
    "    print(e)"
   ]
  },
  {
   "cell_type": "markdown",
   "metadata": {},
   "source": [
    "Hence, if you ever need to apply a `jax.numpy` function on a `jpuQuantity`, you can use `jpu.numpy` module instead"
   ]
  },
  {
   "cell_type": "code",
   "execution_count": 38,
   "metadata": {},
   "outputs": [
    {
     "data": {
      "text/html": [
       "<table><tbody><tr><th>Magnitude</th><td style='text-align:left;'><pre>[9.272025  9.0721445 9.235521 ]</pre></td></tr><tr><th>Units</th><td style='text-align:left;'>meter<sup>2</sup></td></tr></tbody></table>"
      ],
      "text/latex": [
       "$[9.272025  9.0721445 9.235521 ]\\ \\mathrm{meter}^{2}$"
      ],
      "text/plain": [
       "<Quantity([9.272025  9.0721445 9.235521 ], 'meter ** 2')>"
      ]
     },
     "execution_count": 38,
     "metadata": {},
     "output_type": "execute_result"
    }
   ],
   "source": [
    "import jpu.numpy as jnpu\n",
    "\n",
    "jnpu.power(result, 2)"
   ]
  }
 ],
 "metadata": {
  "kernelspec": {
   "display_name": "jaxoplanet_3.11",
   "language": "python",
   "name": "python3"
  },
  "language_info": {
   "codemirror_mode": {
    "name": "ipython",
    "version": 3
   },
   "file_extension": ".py",
   "mimetype": "text/x-python",
   "name": "python",
   "nbconvert_exporter": "python",
   "pygments_lexer": "ipython3",
   "version": "3.11.10"
  }
 },
 "nbformat": 4,
 "nbformat_minor": 2
}
