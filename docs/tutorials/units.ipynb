{
 "cells": [
  {
   "cell_type": "markdown",
   "metadata": {},
   "source": [
    "# Units"
   ]
  },
  {
   "cell_type": "markdown",
   "metadata": {},
   "source": [
    "In order to deal with physical units, *jaxoplanet* uses [jpu](https://github.com/dfm/jpu), a Python package that provides an interface between [JAX](https://jax.readthedocs.io) and [Pint](https://pint.readthedocs.io) to allow JAX to support operations with units.\n",
    "\n",
    "Here is an example from their documentation:"
   ]
  },
  {
   "cell_type": "code",
   "execution_count": null,
   "metadata": {},
   "outputs": [],
   "source": [
    "import jax\n",
    "import jax.numpy as jnp\n",
    "import jpu\n",
    "\n",
    "u = jpu.UnitRegistry()\n",
    "\n",
    "\n",
    "@jax.jit\n",
    "def add_two_lengths(a, b):\n",
    "    return a + b\n",
    "\n",
    "\n",
    "result = add_two_lengths(3 * u.m, jnp.array([4.5, 1.2, 3.9]) * u.cm)\n",
    "\n",
    "result"
   ]
  },
  {
   "cell_type": "markdown",
   "metadata": {},
   "source": [
    "The `result` has a value with units attached to it and is of type"
   ]
  },
  {
   "cell_type": "code",
   "execution_count": null,
   "metadata": {},
   "outputs": [],
   "source": [
    "type(result)"
   ]
  },
  {
   "cell_type": "markdown",
   "metadata": {},
   "source": [
    "To get the value of the quantity, call"
   ]
  },
  {
   "cell_type": "code",
   "execution_count": null,
   "metadata": {},
   "outputs": [],
   "source": [
    "result.magnitude"
   ]
  },
  {
   "cell_type": "markdown",
   "metadata": {},
   "source": [
    "And to convert to a different unit"
   ]
  },
  {
   "cell_type": "code",
   "execution_count": null,
   "metadata": {},
   "outputs": [],
   "source": [
    "result.to(u.cm)\n",
    "\n",
    "# or\n",
    "\n",
    "result.to(\"cm\")"
   ]
  },
  {
   "cell_type": "markdown",
   "metadata": {},
   "source": [
    "The particularity of the `jpuQuantity` is that it cannot be used directly within `jax.numpy` functions"
   ]
  },
  {
   "cell_type": "code",
   "execution_count": null,
   "metadata": {},
   "outputs": [],
   "source": [
    "try:\n",
    "    jnp.power(result, 2)\n",
    "\n",
    "except Exception as e:\n",
    "    print(e)"
   ]
  },
  {
   "cell_type": "markdown",
   "metadata": {},
   "source": [
    "So if you ever need to apply a `jax.numpy` function on a `jpuQuantity`, you should use the `jpu.numpy` module"
   ]
  },
  {
   "cell_type": "code",
   "execution_count": null,
   "metadata": {},
   "outputs": [],
   "source": [
    "import jpu.numpy as jnpu\n",
    "\n",
    "jnpu.power(result, 2)"
   ]
  }
 ],
 "metadata": {
  "kernelspec": {
   "display_name": "jaxoplanet_3.11",
   "language": "python",
   "name": "python3"
  },
  "language_info": {
   "codemirror_mode": {
    "name": "ipython",
    "version": 3
   },
   "file_extension": ".py",
   "mimetype": "text/x-python",
   "name": "python",
   "nbconvert_exporter": "python",
   "pygments_lexer": "ipython3",
   "version": "3.11.10"
  }
 },
 "nbformat": 4,
 "nbformat_minor": 2
}
