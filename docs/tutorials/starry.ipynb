{
 "cells": [
  {
   "cell_type": "markdown",
   "metadata": {},
   "source": [
    "# Starry light curve\n",
    "\n",
    "*jaxoplanet* aims to match the features of starry, a framework to compute light curves of non-uniform spherical bodies. In this small tutorial we demonstrate some of this features.\n",
    "\n",
    "```{warning}\n",
    "Under construction!\n",
    "```"
   ]
  },
  {
   "cell_type": "code",
   "execution_count": null,
   "metadata": {},
   "outputs": [],
   "source": [
    "import numpy as np\n",
    "import matplotlib.pyplot as plt\n",
    "\n",
    "from jaxoplanet.experimental.starry.utils import show_map\n",
    "from jaxoplanet.experimental.starry.maps import Map\n",
    "from jaxoplanet.experimental.starry.ylm import Ylm\n",
    "\n",
    "y = Ylm.from_dense(np.hstack([1.0, np.random.rand(20) * 1e-1]))\n",
    "map_1 = Map(y=y, inc=0.9, obl=-0.3, period=1.2, u=[0.5, 0.5])\n",
    "\n",
    "y = Ylm.from_dense(np.hstack([0.3, np.random.rand(20) * 1e-1]))\n",
    "map_2 = Map(y=y, inc=1.6, obl=0.3, period=-0.8, u=[0.2, 0.5])\n",
    "\n",
    "plt.figure(figsize=(6, 3))\n",
    "plt.subplot(121)\n",
    "show_map(map_1)\n",
    "plt.title(\"Central map\")\n",
    "plt.subplot(122)\n",
    "show_map(map_2)\n",
    "plt.title(\"Body map\")\n",
    "_ = plt.tight_layout()"
   ]
  },
  {
   "cell_type": "code",
   "execution_count": null,
   "metadata": {},
   "outputs": [],
   "source": [
    "from jaxoplanet.orbits import keplerian\n",
    "from jaxoplanet.experimental.starry.light_curves import light_curve\n",
    "\n",
    "system = keplerian.System(\n",
    "    keplerian.Central(map=map_1),\n",
    "    bodies=[keplerian.Body(radius=0.3, period=1.0, map=map_2)],\n",
    ")\n",
    "\n",
    "time = np.linspace(-2.0, 2.0, 1000)\n",
    "y = light_curve(system, time)\n",
    "\n",
    "plt.figure(figsize=(12, 4))\n",
    "plt.plot(y.sum(0), c=\"k\")"
   ]
  }
 ],
 "metadata": {
  "kernelspec": {
   "display_name": "starry_jax",
   "language": "python",
   "name": "python3"
  },
  "language_info": {
   "codemirror_mode": {
    "name": "ipython",
    "version": 3
   },
   "file_extension": ".py",
   "mimetype": "text/x-python",
   "name": "python",
   "nbconvert_exporter": "python",
   "pygments_lexer": "ipython3",
   "version": "3.9.18"
  }
 },
 "nbformat": 4,
 "nbformat_minor": 2
}
