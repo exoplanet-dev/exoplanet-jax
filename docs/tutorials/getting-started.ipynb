{
 "cells": [
  {
   "cell_type": "markdown",
   "id": "0",
   "metadata": {},
   "source": [
    "(getting-started)=\n",
    "\n",
    "# Getting Started"
   ]
  },
  {
   "cell_type": "code",
   "execution_count": null,
   "id": "1",
   "metadata": {
    "tags": [
     "hide-input"
    ]
   },
   "outputs": [],
   "source": [
    "import jax\n",
    "\n",
    "jax.config.update(\"jax_enable_x64\", True)"
   ]
  },
  {
   "cell_type": "markdown",
   "id": "2",
   "metadata": {},
   "source": [
    "## Keplerian system\n",
    "\n",
    "In jaxoplanet, a keplerian system can be instantiated with a [Central](jaxoplanet.orbit.keplerian.Central) object"
   ]
  },
  {
   "cell_type": "code",
   "execution_count": null,
   "id": "3",
   "metadata": {},
   "outputs": [],
   "source": [
    "from jaxoplanet.orbits.keplerian import System, Central\n",
    "\n",
    "system = System(Central())  # a central object with some default parameters"
   ]
  },
  {
   "cell_type": "markdown",
   "id": "4",
   "metadata": {},
   "source": [
    "and add an orbiting [Body](jaxoplanet.orbit.keplerian.Body) "
   ]
  },
  {
   "cell_type": "code",
   "execution_count": null,
   "id": "5",
   "metadata": {},
   "outputs": [],
   "source": [
    "system = system.add_body(period=0.1)"
   ]
  },
  {
   "cell_type": "markdown",
   "id": "6",
   "metadata": {},
   "source": [
    "As many arguments are optional, it's always a good idea to check the parameters of the system."
   ]
  },
  {
   "cell_type": "code",
   "execution_count": null,
   "id": "7",
   "metadata": {},
   "outputs": [],
   "source": [
    "system"
   ]
  },
  {
   "cell_type": "markdown",
   "id": "8",
   "metadata": {},
   "source": [
    "For the reminder of this notebook, let's define a system consisting of an Earth-like planet orbiting a Sun-like star."
   ]
  },
  {
   "cell_type": "code",
   "execution_count": null,
   "id": "9",
   "metadata": {},
   "outputs": [],
   "source": [
    "from jaxoplanet.units import unit_registry as ureg\n",
    "\n",
    "sun = Central(\n",
    "    radius=1.0 * ureg.R_sun,\n",
    "    mass=1.0 * ureg.M_sun,\n",
    ")\n",
    "\n",
    "system = System(sun).add_body(\n",
    "    semimajor=1.0 * ureg.au,\n",
    "    radius=1.0 * ureg.R_earth,\n",
    "    mass=1.0 * ureg.M_earth,\n",
    ")\n",
    "\n",
    "earth = system.bodies[0]\n",
    "\n",
    "# checking the parameters of the system\n",
    "system"
   ]
  },
  {
   "cell_type": "markdown",
   "id": "10",
   "metadata": {},
   "source": [
    "```{note}\n",
    "\n",
    "Notice the use of the [jaxoplanet.units]() module to handle physical units. Check [TODO]() for an introduction to the unit system used by jaxoplanet.\n",
    "\n",
    "```"
   ]
  },
  {
   "cell_type": "markdown",
   "id": "11",
   "metadata": {},
   "source": [
    "# Radial velocity"
   ]
  },
  {
   "cell_type": "markdown",
   "id": "12",
   "metadata": {},
   "source": [
    "Using the [KeplarianOrbit]() object, one can access the relative position and velocity of the planet relative to the sun. "
   ]
  },
  {
   "cell_type": "code",
   "execution_count": null,
   "id": "13",
   "metadata": {},
   "outputs": [],
   "source": [
    "import jax.numpy as jnp\n",
    "from matplotlib import pyplot as plt\n",
    "\n",
    "# Get the position of the planet and velocity of the star as a function of time\n",
    "t = jnp.linspace(0, 730, 5000)\n",
    "x, y, z = earth.relative_position(t)\n",
    "vx, vy, vz = earth.central_velocity(t)"
   ]
  },
  {
   "cell_type": "markdown",
   "id": "14",
   "metadata": {},
   "source": [
    "```{note}\n",
    "Axes and orbital parameters conventions follow that of the [*exoplanet* package](https://docs.exoplanet.codes/en/latest/tutorials/data-and-models/).\n",
    "```\n",
    "\n",
    "And plot the results"
   ]
  },
  {
   "cell_type": "code",
   "execution_count": null,
   "id": "15",
   "metadata": {},
   "outputs": [],
   "source": [
    "fig, axes = plt.subplots(2, 1, sharex=True)\n",
    "ax = axes[0]\n",
    "ax.plot(t, x.magnitude, label=\"x\")\n",
    "ax.plot(t, y.magnitude, label=\"y\")\n",
    "ax.plot(t, z.magnitude, label=\"z\")\n",
    "ax.set_ylabel(\"earth position [$R_*$]\")\n",
    "ax.legend(fontsize=10, loc=1)\n",
    "\n",
    "ax = axes[1]\n",
    "ax.plot(t, vx.magnitude, label=\"$v_x$\")\n",
    "ax.plot(t, vy.magnitude, label=\"$v_y$\")\n",
    "ax.plot(t, vz.magnitude, label=\"$v_z$\")\n",
    "ax.set_xlim(t.min(), t.max())\n",
    "ax.set_xlabel(\"time [days]\")\n",
    "ax.set_ylabel(\"central velocity [$R_*$/day]\")\n",
    "_ = ax.legend(fontsize=10, loc=1)"
   ]
  },
  {
   "cell_type": "markdown",
   "id": "16",
   "metadata": {},
   "source": [
    "## Light curve\n",
    "\n",
    "jaxoplanet contains module to compute occultation light curves of stars given different photosphere properties. For example, we can define a limb-darkened [light_curve](jaxoplanet.light_curves.limb_dark.light_curve) to compute the flux of a star with a polynomial limb darkening, allowing to express linear, quadratic and more complex laws.\n",
    "\n",
    "Using the limb-darkening coefficients from [Hestroffer and Magnan](https://www.physics.hmc.edu/faculty/esin/a101/limbdarkening.pdf) we compute the flux"
   ]
  },
  {
   "cell_type": "code",
   "execution_count": null,
   "id": "17",
   "metadata": {},
   "outputs": [],
   "source": [
    "from jaxoplanet.light_curves.limb_dark import light_curve\n",
    "\n",
    "u = (0.30505, 1.13123, -0.78604, 0.40560, 0.02297, -0.07880)\n",
    "time = jnp.linspace(-0.5, 0.5, 1000)\n",
    "\n",
    "flux = 1.0 + light_curve(system, u)(time)"
   ]
  },
  {
   "cell_type": "markdown",
   "id": "18",
   "metadata": {},
   "source": [
    "and plot the resulting light curve"
   ]
  },
  {
   "cell_type": "code",
   "execution_count": null,
   "id": "19",
   "metadata": {},
   "outputs": [],
   "source": [
    "plt.plot(time, flux)\n",
    "plt.xlabel(\"time (days)\")\n",
    "_ = plt.ylabel(\"relative flux\")"
   ]
  },
  {
   "cell_type": "code",
   "execution_count": null,
   "id": "20",
   "metadata": {},
   "outputs": [],
   "source": []
  }
 ],
 "metadata": {
  "kernelspec": {
   "display_name": "Python 3 (ipykernel)",
   "language": "python",
   "name": "python3"
  },
  "language_info": {
   "codemirror_mode": {
    "name": "ipython",
    "version": 3
   },
   "file_extension": ".py",
   "mimetype": "text/x-python",
   "name": "python",
   "nbconvert_exporter": "python",
   "pygments_lexer": "ipython3",
   "version": "3.10.14"
  }
 },
 "nbformat": 4,
 "nbformat_minor": 5
}
