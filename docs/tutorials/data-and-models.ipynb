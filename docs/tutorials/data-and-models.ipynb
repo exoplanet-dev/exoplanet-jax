{
 "cells": [
  {
   "attachments": {},
   "cell_type": "markdown",
   "metadata": {},
   "source": [
    "# A simple transit fit with NumPyro\n",
    "\n",
    "This demo follows the [Transits, occultations, and eclipses](https://docs.exoplanet.codes/en/latest/tutorials/data-and-models/#transits-occultations-and-eclipses) tutorial in the exoplanet docs, but updated to use NumPyro and jaxoplanet.\n",
    "\n",
    "First we simulate some data:"
   ]
  },
  {
   "cell_type": "code",
   "execution_count": null,
   "metadata": {},
   "outputs": [],
   "source": [
    "import numpy as np\n",
    "import matplotlib.pyplot as plt\n",
    "\n",
    "import jax\n",
    "import jax.numpy as jnp\n",
    "\n",
    "jax.config.update(\"jax_enable_x64\", True)\n",
    "\n",
    "import numpyro\n",
    "from numpyro import distributions as dist, infer\n",
    "\n",
    "numpyro.set_host_device_count(2)\n",
    "\n",
    "from numpyro_ext import distributions as distx, optim\n",
    "\n",
    "import corner\n",
    "import arviz as az\n",
    "\n",
    "from jaxoplanet.orbits import KeplerianBody\n",
    "from jaxoplanet.light_curves import LimbDarkLightCurve\n",
    "\n",
    "\n",
    "def light_curve_model(params, t):\n",
    "    orbit = KeplerianBody.init(\n",
    "        period=params[\"period\"],\n",
    "        time_transit=params[\"t0\"],\n",
    "        impact_param=params[\"b\"],\n",
    "        radius=params[\"r\"],\n",
    "    )\n",
    "    return 1e3 * LimbDarkLightCurve.init(params[\"u\"]).light_curve(orbit=orbit, t=t)\n",
    "\n",
    "\n",
    "true_params = {\n",
    "    \"u\": np.array([0.3, 0.2]),\n",
    "    \"period\": 7.2125,\n",
    "    \"t0\": 4.35,\n",
    "    \"b\": 0.35,\n",
    "    \"r\": 0.04,\n",
    "}\n",
    "\n",
    "random = np.random.default_rng(123)\n",
    "t = np.arange(0, 35, 0.02)\n",
    "yerr = 0.3\n",
    "y = light_curve_model(true_params, t) + random.normal(0, yerr, t.size)\n",
    "plt.plot(t, y, \".k\", ms=1)\n",
    "plt.xlabel(\"time [days]\")\n",
    "plt.ylabel(\"relative flux [ppt]\");"
   ]
  },
  {
   "attachments": {},
   "cell_type": "markdown",
   "metadata": {},
   "source": [
    "Here's the simple probabilistic model implemented in NumPyro:"
   ]
  },
  {
   "cell_type": "code",
   "execution_count": null,
   "metadata": {},
   "outputs": [],
   "source": [
    "num_transits = 5\n",
    "\n",
    "\n",
    "def model(t, yerr, y=None):\n",
    "    # The baseline flux\n",
    "    mean = numpyro.sample(\"mean\", dist.Normal(0.0, 1.0))\n",
    "\n",
    "    # Often the best parameterization is actually in terms of the\n",
    "    # times of two reference transits rather than t0 and period\n",
    "    t0 = numpyro.sample(\"t0\", dist.Normal(4.35, 1.0))\n",
    "    t1 = numpyro.sample(\"t1\", dist.Normal(33.2, 1.0))\n",
    "    period = numpyro.deterministic(\"period\", (t1 - t0) / (num_transits - 1))\n",
    "\n",
    "    # The Kipping (2013) parameterization for quadratic limb darkening\n",
    "    # parameters\n",
    "    u = numpyro.sample(\"u\", distx.QuadLDParams())\n",
    "\n",
    "    # The radius ratio and impact parameter; these parameters can\n",
    "    # introduce pretty serious covariances and are ripe for\n",
    "    # reparameterization\n",
    "    log_r = numpyro.sample(\"log_r\", dist.Normal(np.log(0.04), 2.0))\n",
    "    r = numpyro.deterministic(\"r\", jnp.exp(log_r))\n",
    "    f = numpyro.sample(\"f\", dist.Uniform(0, 1))\n",
    "    b = numpyro.deterministic(\"b\", f * (1 + r))\n",
    "\n",
    "    # Some extra \"jitter\" for measurement uncertainties\n",
    "    log_jitter = numpyro.sample(\"log_jitter\", dist.Normal(np.log(0.3), 1.0))\n",
    "\n",
    "    params = {\n",
    "        \"u\": u,\n",
    "        \"period\": period,\n",
    "        \"t0\": t0,\n",
    "        \"b\": b,\n",
    "        \"r\": r,\n",
    "    }\n",
    "    lc = mean + light_curve_model(params, t)\n",
    "    numpyro.sample(\n",
    "        \"y\", dist.Normal(lc, jnp.sqrt(yerr**2 + jnp.exp(2 * log_jitter))), obs=y\n",
    "    )"
   ]
  },
  {
   "attachments": {},
   "cell_type": "markdown",
   "metadata": {},
   "source": [
    "With a lot of these kinds of models, it can be useful to find the MAP parameters to begin with, rather than initializing by sampling from the prior:"
   ]
  },
  {
   "cell_type": "code",
   "execution_count": null,
   "metadata": {},
   "outputs": [],
   "source": [
    "soln = optim.optimize(model)(jax.random.PRNGKey(0), t, yerr, y=y)\n",
    "soln"
   ]
  },
  {
   "attachments": {},
   "cell_type": "markdown",
   "metadata": {},
   "source": [
    "Then we can run a basic MCMC:"
   ]
  },
  {
   "cell_type": "code",
   "execution_count": null,
   "metadata": {},
   "outputs": [],
   "source": [
    "sampler = infer.MCMC(\n",
    "    infer.NUTS(\n",
    "        model,\n",
    "        dense_mass=True,\n",
    "        init_strategy=infer.init_to_value(values=soln),\n",
    "        max_tree_depth=6,\n",
    "    ),\n",
    "    num_warmup=1000,\n",
    "    num_samples=1000,\n",
    "    num_chains=2,\n",
    ")\n",
    "sampler.run(jax.random.PRNGKey(0), t, yerr, y=y)"
   ]
  },
  {
   "attachments": {},
   "cell_type": "markdown",
   "metadata": {},
   "source": [
    "And look at the results:"
   ]
  },
  {
   "cell_type": "code",
   "execution_count": null,
   "metadata": {},
   "outputs": [],
   "source": [
    "inf_data = az.from_numpyro(sampler)\n",
    "corner.corner(inf_data, var_names=[\"mean\", \"t0\", \"t1\", \"log_r\", \"f\", \"u\", \"log_jitter\"])\n",
    "az.summary(inf_data)"
   ]
  },
  {
   "attachments": {},
   "cell_type": "markdown",
   "metadata": {},
   "source": [
    "## Exposing pure-JAX probability function\n",
    "\n",
    "To use this model outside NumPyro, we can use the `numpyro.infer.util.initialize_model` function to extract a pure-JAX version of the probability function:"
   ]
  },
  {
   "cell_type": "code",
   "execution_count": null,
   "metadata": {},
   "outputs": [],
   "source": [
    "param_info, potential_fn, postprocess_fn, _ = infer.util.initialize_model(\n",
    "    jax.random.PRNGKey(0),\n",
    "    model,\n",
    "    model_args=(t, yerr),\n",
    "    model_kwargs={\"y\": y},\n",
    "    dynamic_args=True,\n",
    "    init_strategy=infer.init_to_value(values=soln),\n",
    ")\n",
    "\n",
    "# This in the initial parameter coordinates.\n",
    "# NOTE: These are the _unconstrained_ parameters, and the `potential_fn`\n",
    "# automatically handles remapping to the constrained space.\n",
    "initial_params = param_info.z\n",
    "\n",
    "# The `potential_fn` is a function (generator) that takes in the unconstrained\n",
    "# parameters and returns the _negative_ log probability. We can wrap it like\n",
    "# this to get a function that returns the log probability.\n",
    "log_prob_function = lambda params: -potential_fn(t, yerr, y=y)(params)\n",
    "\n",
    "print(initial_params)\n",
    "print(log_prob_function(initial_params))"
   ]
  },
  {
   "attachments": {},
   "cell_type": "markdown",
   "metadata": {},
   "source": [
    "If you need the log probability function to operate just on arrays, you can use"
   ]
  },
  {
   "cell_type": "code",
   "execution_count": null,
   "metadata": {},
   "outputs": [],
   "source": [
    "from jax.flatten_util import ravel_pytree\n",
    "\n",
    "flat_initial_params, unravel = ravel_pytree(initial_params)\n",
    "flat_log_prob_function = lambda flat_params: log_prob_function(unravel(flat_params))\n",
    "print(flat_initial_params)\n",
    "print(flat_log_prob_function(flat_initial_params))"
   ]
  },
  {
   "cell_type": "code",
   "execution_count": null,
   "metadata": {},
   "outputs": [],
   "source": []
  }
 ],
 "metadata": {
  "kernelspec": {
   "display_name": "exo4jax",
   "language": "python",
   "name": "python3"
  },
  "language_info": {
   "codemirror_mode": {
    "name": "ipython",
    "version": 3
   },
   "file_extension": ".py",
   "mimetype": "text/x-python",
   "name": "python",
   "nbconvert_exporter": "python",
   "pygments_lexer": "ipython3",
   "version": "3.10.10"
  }
 },
 "nbformat": 4,
 "nbformat_minor": 2
}
