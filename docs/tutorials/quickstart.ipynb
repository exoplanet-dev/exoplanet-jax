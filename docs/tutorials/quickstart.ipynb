{
 "cells": [
  {
   "cell_type": "markdown",
   "id": "0",
   "metadata": {},
   "source": [
    "(quickstart)=\n",
    "\n",
    "# Quickstart"
   ]
  },
  {
   "cell_type": "code",
   "execution_count": null,
   "id": "1",
   "metadata": {
    "tags": [
     "hide-input"
    ]
   },
   "outputs": [],
   "source": [
    "import jax\n",
    "\n",
    "jax.config.update(\"jax_enable_x64\", True)"
   ]
  },
  {
   "cell_type": "markdown",
   "id": "2",
   "metadata": {},
   "source": [
    "## Keplerian system\n",
    "\n",
    "In `jaxoplanet`, a Keplerian system can be instantiated with a [Central](jaxoplanet.orbits.keplerian.Central) object"
   ]
  },
  {
   "cell_type": "code",
   "execution_count": null,
   "id": "3",
   "metadata": {},
   "outputs": [],
   "source": [
    "from jaxoplanet.orbits.keplerian import System, Central\n",
    "\n",
    "system = System(Central())  # a central object with some default parameters"
   ]
  },
  {
   "cell_type": "markdown",
   "id": "4",
   "metadata": {},
   "source": [
    "and add an orbiting [Body](jaxoplanet.orbits.keplerian.Body) "
   ]
  },
  {
   "cell_type": "code",
   "execution_count": null,
   "id": "5",
   "metadata": {},
   "outputs": [],
   "source": [
    "system = system.add_body(period=0.1)"
   ]
  },
  {
   "cell_type": "markdown",
   "id": "6",
   "metadata": {},
   "source": [
    "As many arguments are optional, it's always a good idea to check the parameters of the system."
   ]
  },
  {
   "cell_type": "code",
   "execution_count": null,
   "id": "7",
   "metadata": {},
   "outputs": [],
   "source": [
    "system"
   ]
  },
  {
   "cell_type": "markdown",
   "id": "8",
   "metadata": {},
   "source": [
    "For the reminder of this notebook, let's define a system consisting of an Earth-like planet orbiting a Sun-like star."
   ]
  },
  {
   "cell_type": "code",
   "execution_count": null,
   "id": "9",
   "metadata": {},
   "outputs": [],
   "source": [
    "from jaxoplanet.units import unit_registry as ureg\n",
    "\n",
    "sun = Central(\n",
    "    radius=1.0 * ureg.R_sun,\n",
    "    mass=1.0 * ureg.M_sun,\n",
    ")\n",
    "\n",
    "system = System(sun).add_body(\n",
    "    semimajor=1.0 * ureg.au,\n",
    "    radius=1.0 * ureg.R_earth,\n",
    "    mass=1.0 * ureg.M_earth,\n",
    ")\n",
    "\n",
    "earth = system.bodies[0]\n",
    "\n",
    "# checking the parameters of the system\n",
    "system"
   ]
  },
  {
   "cell_type": "markdown",
   "id": "10",
   "metadata": {},
   "source": [
    "```{note}\n",
    "\n",
    "Notice the use of the [jaxoplanet.units](jaxoplanet.units) module to handle physical units. Check *TODO* for an introduction to the unit system used by `jaxoplanet`.\n",
    "\n",
    "```"
   ]
  },
  {
   "cell_type": "markdown",
   "id": "11",
   "metadata": {},
   "source": [
    "## Radial velocity"
   ]
  },
  {
   "cell_type": "markdown",
   "id": "12",
   "metadata": {},
   "source": [
    "Then, one can access the relative position and velocity of the planet relative to the sun. "
   ]
  },
  {
   "cell_type": "code",
   "execution_count": null,
   "id": "13",
   "metadata": {},
   "outputs": [],
   "source": [
    "import jax.numpy as jnp\n",
    "from matplotlib import pyplot as plt\n",
    "\n",
    "# Get the position of the planet and velocity of the star as a function of time\n",
    "t = jnp.linspace(0, 730, 5000)\n",
    "x, y, z = earth.relative_position(t)\n",
    "vx, vy, vz = earth.central_velocity(t)"
   ]
  },
  {
   "cell_type": "markdown",
   "id": "14",
   "metadata": {},
   "source": [
    "```{note}\n",
    "Axes and orbital parameters conventions follow that of the [*exoplanet* package](https://docs.exoplanet.codes/en/latest/tutorials/data-and-models/).\n",
    "```\n",
    "\n",
    "And plot the results"
   ]
  },
  {
   "cell_type": "code",
   "execution_count": null,
   "id": "15",
   "metadata": {},
   "outputs": [],
   "source": [
    "fig, axes = plt.subplots(2, 1, sharex=True)\n",
    "ax = axes[0]\n",
    "ax.plot(t, x.magnitude, label=\"x\")\n",
    "ax.plot(t, y.magnitude, label=\"y\")\n",
    "ax.plot(t, z.magnitude, label=\"z\")\n",
    "ax.set_ylabel(\"earth position [$R_*$]\")\n",
    "ax.legend(fontsize=10, loc=1)\n",
    "\n",
    "ax = axes[1]\n",
    "ax.plot(t, vx.magnitude, label=\"$v_x$\")\n",
    "ax.plot(t, vy.magnitude, label=\"$v_y$\")\n",
    "ax.plot(t, vz.magnitude, label=\"$v_z$\")\n",
    "ax.set_xlim(t.min(), t.max())\n",
    "ax.set_xlabel(\"time [days]\")\n",
    "ax.set_ylabel(\"central velocity [$R_*$/day]\")\n",
    "_ = ax.legend(fontsize=10, loc=1)"
   ]
  },
  {
   "cell_type": "markdown",
   "id": "16",
   "metadata": {},
   "source": [
    "## Occultation light curve of limb-darkened star\n",
    "\n",
    "`jaxoplanet` contains module to compute occultation light curves of stars given different photosphere properties. For example, we can define a limb-darkened [light_curve](jaxoplanet.light_curves.limb_dark.light_curve) to compute the flux of a star with a polynomial limb darkening, allowing to express linear, quadratic and more complex laws.\n",
    "\n",
    "Using the limb-darkening coefficients from [Hestroffer and Magnan](https://www.physics.hmc.edu/faculty/esin/a101/limbdarkening.pdf) we compute the flux"
   ]
  },
  {
   "cell_type": "code",
   "execution_count": null,
   "id": "17",
   "metadata": {},
   "outputs": [],
   "source": [
    "from jaxoplanet.light_curves.limb_dark import light_curve\n",
    "\n",
    "u = (0.30505, 1.13123, -0.78604, 0.40560, 0.02297, -0.07880)\n",
    "time = jnp.linspace(-0.5, 0.5, 1000)\n",
    "\n",
    "flux = 1.0 + light_curve(system, u)(time)"
   ]
  },
  {
   "cell_type": "markdown",
   "id": "18",
   "metadata": {},
   "source": [
    "and plot the resulting light curve"
   ]
  },
  {
   "cell_type": "code",
   "execution_count": null,
   "id": "19",
   "metadata": {},
   "outputs": [],
   "source": [
    "plt.plot(time, flux)\n",
    "plt.xlabel(\"time (days)\")\n",
    "_ = plt.ylabel(\"relative flux\")"
   ]
  },
  {
   "cell_type": "markdown",
   "id": "20",
   "metadata": {},
   "source": [
    "## Non-uniform stars\n",
    "\n",
    "`jaxoplanet` aims to match the features of [starry](https://github.com/rodluger/starry), a framework to compute the light curves of systems made of non-uniform spherical bodies.\n",
    "\n",
    "```{warning}\n",
    "While being stable, computing *starry* light curves of non-uniform surfaces is still an experimental part of `jaxoplanet`.\n",
    "```\n",
    "\n",
    "Let's define a [Surface](jaxoplanet.experimental.starry.surface.Surface) in the [spherical harmonics](https://en.wikipedia.org/wiki/Spherical_harmonics) basis (using the [Ylm](jaxoplanet.experimental.starry.ylm.Ylm) object) and visualize it\n"
   ]
  },
  {
   "cell_type": "code",
   "execution_count": null,
   "id": "21",
   "metadata": {},
   "outputs": [],
   "source": [
    "import numpy as np\n",
    "from jaxoplanet.experimental.starry.ylm import Ylm\n",
    "from jaxoplanet.experimental.starry.surface import Surface\n",
    "from jaxoplanet.experimental.starry.visualization import show_surface\n",
    "\n",
    "np.random.seed(42)\n",
    "y = Ylm.from_dense([1.00, *np.random.normal(0.0, 2e-2, size=15)])\n",
    "\n",
    "u = (0.1, 0.1)\n",
    "surface = Surface(inc=1.0, obl=0.2, period=27.0, u=u, y=y)\n",
    "\n",
    "plt.figure(figsize=(3, 3))\n",
    "show_surface(surface)"
   ]
  },
  {
   "cell_type": "markdown",
   "id": "22",
   "metadata": {},
   "source": [
    "### Rotational light curves\n",
    "\n",
    "We can attach this surface to a body (like the sun-like object we previously defined) and define a [SurfaceSystem](jaxoplanet.experimental.starry.orbit.SurfaceSystem)"
   ]
  },
  {
   "cell_type": "code",
   "execution_count": null,
   "id": "23",
   "metadata": {},
   "outputs": [],
   "source": [
    "from jaxoplanet.experimental.starry.orbit import SurfaceSystem\n",
    "\n",
    "system = SurfaceSystem(sun, surface)"
   ]
  },
  {
   "cell_type": "markdown",
   "id": "24",
   "metadata": {},
   "source": [
    "and compute the rotational light curve of the star"
   ]
  },
  {
   "cell_type": "code",
   "execution_count": null,
   "id": "25",
   "metadata": {},
   "outputs": [],
   "source": [
    "from jaxoplanet.experimental.starry.light_curves import light_curve\n",
    "\n",
    "plt.figure(figsize=(6.5, 2.5))\n",
    "time = jnp.linspace(-20, 20, 1000)\n",
    "flux = light_curve(system)(time).T[0]\n",
    "\n",
    "plt.plot(time, flux)\n",
    "plt.xlabel(\"time (days)\")\n",
    "plt.ylabel(\"relative flux\")\n",
    "plt.tight_layout()"
   ]
  },
  {
   "cell_type": "markdown",
   "id": "26",
   "metadata": {},
   "source": [
    "### Occultation light curve"
   ]
  },
  {
   "cell_type": "markdown",
   "id": "27",
   "metadata": {},
   "source": [
    "We can add a body to the system, itself optionally having a surface"
   ]
  },
  {
   "cell_type": "code",
   "execution_count": null,
   "id": "28",
   "metadata": {},
   "outputs": [],
   "source": [
    "system = SurfaceSystem(sun, surface)\n",
    "\n",
    "secondary_surface = Surface(\n",
    "    y=Ylm.from_dense([1.00, *np.random.normal(0.0, 1.0, size=15)])\n",
    ")\n",
    "\n",
    "system = system.add_body(\n",
    "    semimajor=40.0 * ureg.au,\n",
    "    radius=20.0 * ureg.R_earth,\n",
    "    mass=1.0 * ureg.M_earth,\n",
    "    impact_param=0.2,\n",
    "    surface=secondary_surface,\n",
    ")"
   ]
  },
  {
   "cell_type": "markdown",
   "id": "29",
   "metadata": {},
   "source": [
    "And compute the occultation light curve of the system"
   ]
  },
  {
   "cell_type": "code",
   "execution_count": null,
   "id": "30",
   "metadata": {},
   "outputs": [],
   "source": [
    "t_start, t_end = -20, 20\n",
    "n = 1000\n",
    "time = jnp.linspace(t_start, t_end, n)\n",
    "flux = light_curve(system)(time).T[0]"
   ]
  },
  {
   "cell_type": "markdown",
   "id": "31",
   "metadata": {},
   "source": [
    "Let's plot it and show the system in time"
   ]
  },
  {
   "cell_type": "code",
   "execution_count": null,
   "id": "32",
   "metadata": {},
   "outputs": [],
   "source": [
    "n_plots = 5\n",
    "times = jnp.linspace(t_start, t_end, n_plots)\n",
    "radius_ratio = (system.bodies[0].radius / system.central.radius).magnitude\n",
    "gs = plt.GridSpec(2, n_plots)\n",
    "\n",
    "plt.figure(figsize=(6.5, 4.0))\n",
    "\n",
    "for i in range(n_plots):\n",
    "    ax = plt.subplot(gs[0, i])\n",
    "    phase = surface.rotational_phase(times[i])\n",
    "    x, y = system.bodies[0].position(times[i])[0:2]\n",
    "    show_surface(surface, ax=ax, theta=phase)\n",
    "    circle = plt.Circle(\n",
    "        (x.magnitude, y.magnitude), radius_ratio, color=\"k\", fill=True, zorder=10\n",
    "    )\n",
    "    ax.add_artist(circle)\n",
    "    ax.set_xlim(-1.5, 1.5)\n",
    "\n",
    "plt.subplot(gs[1, :])\n",
    "plt.plot(time, flux)\n",
    "\n",
    "plt.xlabel(\"time since transit (days)\")\n",
    "plt.ylabel(\"relative flux\")\n",
    "plt.tight_layout()"
   ]
  }
 ],
 "metadata": {
  "kernelspec": {
   "display_name": "Python 3 (ipykernel)",
   "language": "python",
   "name": "python3"
  },
  "language_info": {
   "codemirror_mode": {
    "name": "ipython",
    "version": 3
   },
   "file_extension": ".py",
   "mimetype": "text/x-python",
   "name": "python",
   "nbconvert_exporter": "python",
   "pygments_lexer": "ipython3",
   "version": "3.10.14"
  }
 },
 "nbformat": 4,
 "nbformat_minor": 5
}
